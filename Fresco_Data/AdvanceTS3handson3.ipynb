{
 "cells": [
  {
   "cell_type": "markdown",
   "metadata": {},
   "source": [
    "### Welcome to the third hands on advanced time series analysis.\n",
    "Follow the instruction provided for each cell to complete the handson. We have created this Python Notebook with all the necessary things needed for completing this exercise. \n",
    "\n",
    "To run the code in each cell click on the cell and press **shift + enter** "
   ]
  },
  {
   "cell_type": "markdown",
   "metadata": {},
   "source": [
    "**Load Data**\n",
    "- In this hands-on you will build an ARIMA model on train set and forecast on the test set\n",
    "-  Run the below cell to load the data."
   ]
  },
  {
   "cell_type": "code",
   "execution_count": 1,
   "metadata": {
    "scrolled": true
   },
   "outputs": [],
   "source": [
    "import pandas as pd\n",
    "from pandas import Series\n",
    "timeSeries  = [30,21,29,31,40,48,53,47,37,39,31,29,17,9,20,24,27,35,41,38,\n",
    "          27,31,27,26,21,13,21,18,33,35,40,36,22,24,21,20,17,14,17,19,\n",
    "          26,29,40,31,20,24,18,26,17,9,17,21,28,32,46,33,23,28,22,27,\n",
    "          18,8,17,21,31,34,44,38,31,30,26,32]\n",
    "ts = Series(timeSeries)\n",
    "X = ts.values"
   ]
  },
  {
   "cell_type": "markdown",
   "metadata": {},
   "source": [
    "**Build Model**\n",
    "- Import ARIMA from statsmodels\n",
    "- Let the train test ratio be 4:1 (consider first 80% of data X for train set) . Accordingly set the size.\n",
    "- Develop a forecasting model with ARIMA and initialise to variable `model`.\n",
    "- Set the lag value to 5\n",
    "- Set the degree of difference to 1\n",
    "- Set unit moving average size to 0\n",
    "- Fit the model and assign it to variable `model_fit`.\n",
    "- Do the forecast with the model and assign the result to variable `output`.\n",
    "\n",
    "refer the code snippet in the course to build the model"
   ]
  },
  {
   "cell_type": "code",
   "execution_count": 2,
   "metadata": {
    "scrolled": true
   },
   "outputs": [
    {
     "name": "stdout",
     "output_type": "stream",
     "text": [
      "predicted=18.650694, expected=28.000000\n",
      "predicted=24.901652, expected=22.000000\n",
      "predicted=25.713330, expected=27.000000\n",
      "predicted=29.598913, expected=18.000000\n",
      "predicted=17.237800, expected=8.000000\n",
      "predicted=8.439453, expected=17.000000\n",
      "predicted=15.236530, expected=21.000000\n",
      "predicted=24.254968, expected=31.000000\n",
      "predicted=32.671336, expected=34.000000\n",
      "predicted=30.706288, expected=44.000000\n",
      "predicted=43.147267, expected=38.000000\n",
      "predicted=35.767677, expected=31.000000\n",
      "predicted=28.980105, expected=30.000000\n",
      "predicted=27.519417, expected=26.000000\n",
      "predicted=28.166801, expected=32.000000\n"
     ]
    }
   ],
   "source": [
    "###Start code here\n",
    "from statsmodels.tsa.arima_model import ARIMA\n",
    "\n",
    "from sklearn.metrics import mean_squared_error\n",
    "X = X.astype('float64')\n",
    "size = int(len(X) * 0.8)\n",
    "train, test = X[0:size], X[size:len(X)]\n",
    "history = [x for x in train]\n",
    "predictions = list()\n",
    "for t in range(len(test)):\n",
    "    model = ARIMA(history, order=(5,1,0))\n",
    "\n",
    "    model_fit = model.fit(disp=0)\n",
    "\n",
    "    output = model_fit.forecast()\n",
    "##End code\n",
    "    yhat = output[0]\n",
    "    predictions.append(yhat)\n",
    "    obs = test[t]\n",
    "    history.append(obs)\n",
    "    print('predicted=%f, expected=%f' % (yhat, obs))"
   ]
  },
  {
   "cell_type": "markdown",
   "metadata": {},
   "source": [
    "**Efficiency of model**\n",
    "- Run the below cell to output model error"
   ]
  },
  {
   "cell_type": "code",
   "execution_count": 3,
   "metadata": {
    "scrolled": true
   },
   "outputs": [
    {
     "name": "stdout",
     "output_type": "stream",
     "text": [
      "MSE =  47.67385545333272\n"
     ]
    }
   ],
   "source": [
    "from sklearn.metrics import mean_squared_error\n",
    "error = mean_squared_error(test, predictions)\n",
    "print(\"MSE = \", error)\n"
   ]
  },
  {
   "cell_type": "markdown",
   "metadata": {},
   "source": [
    "### Run the below cell without modifying to save your answers\n"
   ]
  },
  {
   "cell_type": "code",
   "execution_count": 4,
   "metadata": {},
   "outputs": [
    {
     "name": "stdout",
     "output_type": "stream",
     "text": [
      "6ccb30ddfb3b735d3f12b40c1172845b\n"
     ]
    }
   ],
   "source": [
    "import hashlib\n",
    "import pickle\n",
    "def gethex(ovalue):\n",
    "  hexresult=hashlib.md5(str(ovalue).encode())\n",
    "  return hexresult.hexdigest()\n",
    "def pickle_ans1(value):\n",
    "  hexresult=gethex(value)\n",
    "  with open('ans/output1.pkl', 'wb') as file:\n",
    "    hexresult=gethex(value)\n",
    "    print(hexresult)\n",
    "    pickle.dump(hexresult,file)\n",
    "pickle_ans1(round(error,2))"
   ]
  },
  {
   "cell_type": "code",
   "execution_count": null,
   "metadata": {},
   "outputs": [],
   "source": []
  }
 ],
 "metadata": {
  "kernelspec": {
   "display_name": "Python 3",
   "language": "python",
   "name": "python3"
  },
  "language_info": {
   "codemirror_mode": {
    "name": "ipython",
    "version": 3
   },
   "file_extension": ".py",
   "mimetype": "text/x-python",
   "name": "python",
   "nbconvert_exporter": "python",
   "pygments_lexer": "ipython3",
   "version": "3.5.2"
  }
 },
 "nbformat": 4,
 "nbformat_minor": 2
}
