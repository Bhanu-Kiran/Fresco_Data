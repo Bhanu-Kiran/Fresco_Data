{
 "cells": [
  {
   "cell_type": "code",
   "execution_count": 1,
   "metadata": {},
   "outputs": [],
   "source": [
    "basket1 = {'vanilla wafers', 'bananas' , 'dog food'}\r\n",
    "basket2 = {'bananas', 'bread', 'yogurt'}\r\n",
    "basket3 = {'bananas','apples','yogurt'}\r\n",
    "basket4 = {'vanilla wafers','bananas','whipped cream'}\r\n",
    "basket5 = {'bread', 'vanilla wafers' , 'yogurt'}\r\n",
    "basket6 = {'milk' 'bread' 'bananas'}\r\n",
    "basket7 = {'vanilla wafers', 'apples' , 'bananas'}\r\n",
    "basket8 = {'yogurt', 'apples', 'vanilla wafers'}\r\n",
    "basket9 = {'vanilla wafers', 'bananas' , 'milk'}\r\n",
    "basket10 =  {'bananas', 'bread', 'peanut butter'}"
   ]
  },
  {
   "cell_type": "code",
   "execution_count": 9,
   "metadata": {},
   "outputs": [],
   "source": [
    "import pandas as pd\r\n",
    "import numpy as np"
   ]
  },
  {
   "cell_type": "code",
   "execution_count": 4,
   "metadata": {},
   "outputs": [],
   "source": [
    "dataset = [\r\n",
    "    ['vanilla wafers', 'bananas' , 'dog food'],\r\n",
    "    ['bananas', 'bread', 'yogurt'],\r\n",
    "    ['bananas','apples','yogurt'],\r\n",
    "    ['vanilla wafers','bananas','whipped cream'],\r\n",
    "    ['bread', 'vanilla wafers' , 'yogurt'],\r\n",
    "    ['milk' 'bread' 'bananas'],\r\n",
    "    ['vanilla wafers', 'apples' , 'bananas'],\r\n",
    "    ['yogurt', 'apples', 'vanilla wafers'],\r\n",
    "    \r\n",
    "]"
   ]
  },
  {
   "cell_type": "code",
   "execution_count": 7,
   "metadata": {},
   "outputs": [
    {
     "name": "stdout",
     "output_type": "stream",
     "text": [
      "Collecting mlxtend\n",
      "  Downloading mlxtend-0.18.0-py2.py3-none-any.whl (1.3 MB)\n",
      "Requirement already satisfied: scikit-learn>=0.20.3 in c:\\programdata\\anaconda3\\lib\\site-packages (from mlxtend) (0.23.2)\n",
      "Requirement already satisfied: matplotlib>=3.0.0 in c:\\programdata\\anaconda3\\lib\\site-packages (from mlxtend) (3.3.2)\n",
      "Requirement already satisfied: scipy>=1.2.1 in c:\\programdata\\anaconda3\\lib\\site-packages (from mlxtend) (1.5.2)\n",
      "Requirement already satisfied: numpy>=1.16.2 in c:\\programdata\\anaconda3\\lib\\site-packages (from mlxtend) (1.17.0)\n",
      "Requirement already satisfied: setuptools in c:\\programdata\\anaconda3\\lib\\site-packages (from mlxtend) (50.3.1.post20201107)\n",
      "Requirement already satisfied: joblib>=0.13.2 in c:\\programdata\\anaconda3\\lib\\site-packages (from mlxtend) (0.17.0)\n",
      "Requirement already satisfied: pandas>=0.24.2 in c:\\programdata\\anaconda3\\lib\\site-packages (from mlxtend) (1.1.3)\n",
      "Requirement already satisfied: threadpoolctl>=2.0.0 in c:\\programdata\\anaconda3\\lib\\site-packages (from scikit-learn>=0.20.3->mlxtend) (2.1.0)\n",
      "Requirement already satisfied: pyparsing!=2.0.4,!=2.1.2,!=2.1.6,>=2.0.3 in c:\\programdata\\anaconda3\\lib\\site-packages (from matplotlib>=3.0.0->mlxtend) (2.4.7)\n",
      "Requirement already satisfied: kiwisolver>=1.0.1 in c:\\programdata\\anaconda3\\lib\\site-packages (from matplotlib>=3.0.0->mlxtend) (1.3.0)\n",
      "Requirement already satisfied: python-dateutil>=2.1 in c:\\programdata\\anaconda3\\lib\\site-packages (from matplotlib>=3.0.0->mlxtend) (2.8.1)\n",
      "Requirement already satisfied: certifi>=2020.06.20 in c:\\programdata\\anaconda3\\lib\\site-packages (from matplotlib>=3.0.0->mlxtend) (2020.6.20)\n",
      "Requirement already satisfied: cycler>=0.10 in c:\\programdata\\anaconda3\\lib\\site-packages (from matplotlib>=3.0.0->mlxtend) (0.10.0)\n",
      "Requirement already satisfied: pillow>=6.2.0 in c:\\programdata\\anaconda3\\lib\\site-packages (from matplotlib>=3.0.0->mlxtend) (8.0.1)\n",
      "Requirement already satisfied: pytz>=2017.2 in c:\\programdata\\anaconda3\\lib\\site-packages (from pandas>=0.24.2->mlxtend) (2020.1)\n",
      "Requirement already satisfied: six>=1.5 in c:\\programdata\\anaconda3\\lib\\site-packages (from python-dateutil>=2.1->matplotlib>=3.0.0->mlxtend) (1.15.0)\n",
      "Installing collected packages: mlxtend\n",
      "Successfully installed mlxtend-0.18.0\n",
      "Note: you may need to restart the kernel to use updated packages.\n"
     ]
    }
   ],
   "source": [
    "pip install mlxtend  "
   ]
  },
  {
   "cell_type": "code",
   "execution_count": 19,
   "metadata": {},
   "outputs": [],
   "source": [
    "from mlxtend.preprocessing import TransactionEncoder\r\n",
    "from mlxtend.frequent_patterns import apriori\r\n",
    "from mlxtend.frequent_patterns import association_rules"
   ]
  },
  {
   "cell_type": "code",
   "execution_count": 16,
   "metadata": {},
   "outputs": [
    {
     "data": {
      "text/html": "<div>\n<style scoped>\n    .dataframe tbody tr th:only-of-type {\n        vertical-align: middle;\n    }\n\n    .dataframe tbody tr th {\n        vertical-align: top;\n    }\n\n    .dataframe thead th {\n        text-align: right;\n    }\n</style>\n<table border=\"1\" class=\"dataframe\">\n  <thead>\n    <tr style=\"text-align: right;\">\n      <th></th>\n      <th>apples</th>\n      <th>bananas</th>\n      <th>bread</th>\n      <th>dog food</th>\n      <th>milkbreadbananas</th>\n      <th>vanilla wafers</th>\n      <th>whipped cream</th>\n      <th>yogurt</th>\n    </tr>\n  </thead>\n  <tbody>\n    <tr>\n      <th>0</th>\n      <td>False</td>\n      <td>True</td>\n      <td>False</td>\n      <td>True</td>\n      <td>False</td>\n      <td>True</td>\n      <td>False</td>\n      <td>False</td>\n    </tr>\n    <tr>\n      <th>1</th>\n      <td>False</td>\n      <td>True</td>\n      <td>True</td>\n      <td>False</td>\n      <td>False</td>\n      <td>False</td>\n      <td>False</td>\n      <td>True</td>\n    </tr>\n    <tr>\n      <th>2</th>\n      <td>True</td>\n      <td>True</td>\n      <td>False</td>\n      <td>False</td>\n      <td>False</td>\n      <td>False</td>\n      <td>False</td>\n      <td>True</td>\n    </tr>\n    <tr>\n      <th>3</th>\n      <td>False</td>\n      <td>True</td>\n      <td>False</td>\n      <td>False</td>\n      <td>False</td>\n      <td>True</td>\n      <td>True</td>\n      <td>False</td>\n    </tr>\n    <tr>\n      <th>4</th>\n      <td>False</td>\n      <td>False</td>\n      <td>True</td>\n      <td>False</td>\n      <td>False</td>\n      <td>True</td>\n      <td>False</td>\n      <td>True</td>\n    </tr>\n    <tr>\n      <th>5</th>\n      <td>False</td>\n      <td>False</td>\n      <td>False</td>\n      <td>False</td>\n      <td>True</td>\n      <td>False</td>\n      <td>False</td>\n      <td>False</td>\n    </tr>\n    <tr>\n      <th>6</th>\n      <td>True</td>\n      <td>True</td>\n      <td>False</td>\n      <td>False</td>\n      <td>False</td>\n      <td>True</td>\n      <td>False</td>\n      <td>False</td>\n    </tr>\n    <tr>\n      <th>7</th>\n      <td>True</td>\n      <td>False</td>\n      <td>False</td>\n      <td>False</td>\n      <td>False</td>\n      <td>True</td>\n      <td>False</td>\n      <td>True</td>\n    </tr>\n  </tbody>\n</table>\n</div>",
      "text/plain": "   apples  bananas  bread  dog food  milkbreadbananas  vanilla wafers  \\\n0   False     True  False      True             False            True   \n1   False     True   True     False             False           False   \n2    True     True  False     False             False           False   \n3   False     True  False     False             False            True   \n4   False    False   True     False             False            True   \n5   False    False  False     False              True           False   \n6    True     True  False     False             False            True   \n7    True    False  False     False             False            True   \n\n   whipped cream  yogurt  \n0          False   False  \n1          False    True  \n2          False    True  \n3           True   False  \n4          False    True  \n5          False   False  \n6          False   False  \n7          False    True  "
     },
     "execution_count": 16,
     "metadata": {},
     "output_type": "execute_result"
    }
   ],
   "source": [
    "te = TransactionEncoder()\r\n",
    "te_ary = te.fit(dataset).transform(dataset)\r\n",
    "df = pd.DataFrame(te_ary, columns=te.columns_)\r\n",
    "df\r\n"
   ]
  },
  {
   "cell_type": "code",
   "execution_count": 17,
   "metadata": {},
   "outputs": [
    {
     "data": {
      "text/html": "<div>\n<style scoped>\n    .dataframe tbody tr th:only-of-type {\n        vertical-align: middle;\n    }\n\n    .dataframe tbody tr th {\n        vertical-align: top;\n    }\n\n    .dataframe thead th {\n        text-align: right;\n    }\n</style>\n<table border=\"1\" class=\"dataframe\">\n  <thead>\n    <tr style=\"text-align: right;\">\n      <th></th>\n      <th>support</th>\n      <th>itemsets</th>\n    </tr>\n  </thead>\n  <tbody>\n    <tr>\n      <th>0</th>\n      <td>0.375</td>\n      <td>(apples)</td>\n    </tr>\n    <tr>\n      <th>1</th>\n      <td>0.625</td>\n      <td>(bananas)</td>\n    </tr>\n    <tr>\n      <th>2</th>\n      <td>0.250</td>\n      <td>(bread)</td>\n    </tr>\n    <tr>\n      <th>3</th>\n      <td>0.625</td>\n      <td>(vanilla wafers)</td>\n    </tr>\n    <tr>\n      <th>4</th>\n      <td>0.500</td>\n      <td>(yogurt)</td>\n    </tr>\n    <tr>\n      <th>5</th>\n      <td>0.250</td>\n      <td>(apples, bananas)</td>\n    </tr>\n    <tr>\n      <th>6</th>\n      <td>0.250</td>\n      <td>(apples, vanilla wafers)</td>\n    </tr>\n    <tr>\n      <th>7</th>\n      <td>0.250</td>\n      <td>(apples, yogurt)</td>\n    </tr>\n    <tr>\n      <th>8</th>\n      <td>0.375</td>\n      <td>(vanilla wafers, bananas)</td>\n    </tr>\n    <tr>\n      <th>9</th>\n      <td>0.250</td>\n      <td>(yogurt, bananas)</td>\n    </tr>\n    <tr>\n      <th>10</th>\n      <td>0.250</td>\n      <td>(bread, yogurt)</td>\n    </tr>\n    <tr>\n      <th>11</th>\n      <td>0.250</td>\n      <td>(vanilla wafers, yogurt)</td>\n    </tr>\n  </tbody>\n</table>\n</div>",
      "text/plain": "    support                   itemsets\n0     0.375                   (apples)\n1     0.625                  (bananas)\n2     0.250                    (bread)\n3     0.625           (vanilla wafers)\n4     0.500                   (yogurt)\n5     0.250          (apples, bananas)\n6     0.250   (apples, vanilla wafers)\n7     0.250           (apples, yogurt)\n8     0.375  (vanilla wafers, bananas)\n9     0.250          (yogurt, bananas)\n10    0.250            (bread, yogurt)\n11    0.250   (vanilla wafers, yogurt)"
     },
     "execution_count": 17,
     "metadata": {},
     "output_type": "execute_result"
    }
   ],
   "source": [
    "frequent_itemsets = apriori(df, min_support=0.2, use_colnames=True)\r\n",
    "\r\n",
    "frequent_itemsets"
   ]
  },
  {
   "cell_type": "code",
   "execution_count": 20,
   "metadata": {},
   "outputs": [
    {
     "data": {
      "text/html": "<div>\n<style scoped>\n    .dataframe tbody tr th:only-of-type {\n        vertical-align: middle;\n    }\n\n    .dataframe tbody tr th {\n        vertical-align: top;\n    }\n\n    .dataframe thead th {\n        text-align: right;\n    }\n</style>\n<table border=\"1\" class=\"dataframe\">\n  <thead>\n    <tr style=\"text-align: right;\">\n      <th></th>\n      <th>antecedents</th>\n      <th>consequents</th>\n      <th>antecedent support</th>\n      <th>consequent support</th>\n      <th>support</th>\n      <th>confidence</th>\n      <th>lift</th>\n      <th>leverage</th>\n      <th>conviction</th>\n    </tr>\n  </thead>\n  <tbody>\n    <tr>\n      <th>0</th>\n      <td>(apples)</td>\n      <td>(bananas)</td>\n      <td>0.375</td>\n      <td>0.625</td>\n      <td>0.250</td>\n      <td>0.666667</td>\n      <td>1.066667</td>\n      <td>0.015625</td>\n      <td>1.1250</td>\n    </tr>\n    <tr>\n      <th>1</th>\n      <td>(apples)</td>\n      <td>(vanilla wafers)</td>\n      <td>0.375</td>\n      <td>0.625</td>\n      <td>0.250</td>\n      <td>0.666667</td>\n      <td>1.066667</td>\n      <td>0.015625</td>\n      <td>1.1250</td>\n    </tr>\n    <tr>\n      <th>2</th>\n      <td>(apples)</td>\n      <td>(yogurt)</td>\n      <td>0.375</td>\n      <td>0.500</td>\n      <td>0.250</td>\n      <td>0.666667</td>\n      <td>1.333333</td>\n      <td>0.062500</td>\n      <td>1.5000</td>\n    </tr>\n    <tr>\n      <th>3</th>\n      <td>(yogurt)</td>\n      <td>(apples)</td>\n      <td>0.500</td>\n      <td>0.375</td>\n      <td>0.250</td>\n      <td>0.500000</td>\n      <td>1.333333</td>\n      <td>0.062500</td>\n      <td>1.2500</td>\n    </tr>\n    <tr>\n      <th>4</th>\n      <td>(vanilla wafers)</td>\n      <td>(bananas)</td>\n      <td>0.625</td>\n      <td>0.625</td>\n      <td>0.375</td>\n      <td>0.600000</td>\n      <td>0.960000</td>\n      <td>-0.015625</td>\n      <td>0.9375</td>\n    </tr>\n    <tr>\n      <th>5</th>\n      <td>(bananas)</td>\n      <td>(vanilla wafers)</td>\n      <td>0.625</td>\n      <td>0.625</td>\n      <td>0.375</td>\n      <td>0.600000</td>\n      <td>0.960000</td>\n      <td>-0.015625</td>\n      <td>0.9375</td>\n    </tr>\n    <tr>\n      <th>6</th>\n      <td>(yogurt)</td>\n      <td>(bananas)</td>\n      <td>0.500</td>\n      <td>0.625</td>\n      <td>0.250</td>\n      <td>0.500000</td>\n      <td>0.800000</td>\n      <td>-0.062500</td>\n      <td>0.7500</td>\n    </tr>\n    <tr>\n      <th>7</th>\n      <td>(bread)</td>\n      <td>(yogurt)</td>\n      <td>0.250</td>\n      <td>0.500</td>\n      <td>0.250</td>\n      <td>1.000000</td>\n      <td>2.000000</td>\n      <td>0.125000</td>\n      <td>inf</td>\n    </tr>\n    <tr>\n      <th>8</th>\n      <td>(yogurt)</td>\n      <td>(bread)</td>\n      <td>0.500</td>\n      <td>0.250</td>\n      <td>0.250</td>\n      <td>0.500000</td>\n      <td>2.000000</td>\n      <td>0.125000</td>\n      <td>1.5000</td>\n    </tr>\n    <tr>\n      <th>9</th>\n      <td>(yogurt)</td>\n      <td>(vanilla wafers)</td>\n      <td>0.500</td>\n      <td>0.625</td>\n      <td>0.250</td>\n      <td>0.500000</td>\n      <td>0.800000</td>\n      <td>-0.062500</td>\n      <td>0.7500</td>\n    </tr>\n  </tbody>\n</table>\n</div>",
      "text/plain": "        antecedents       consequents  antecedent support  consequent support  \\\n0          (apples)         (bananas)               0.375               0.625   \n1          (apples)  (vanilla wafers)               0.375               0.625   \n2          (apples)          (yogurt)               0.375               0.500   \n3          (yogurt)          (apples)               0.500               0.375   \n4  (vanilla wafers)         (bananas)               0.625               0.625   \n5         (bananas)  (vanilla wafers)               0.625               0.625   \n6          (yogurt)         (bananas)               0.500               0.625   \n7           (bread)          (yogurt)               0.250               0.500   \n8          (yogurt)           (bread)               0.500               0.250   \n9          (yogurt)  (vanilla wafers)               0.500               0.625   \n\n   support  confidence      lift  leverage  conviction  \n0    0.250    0.666667  1.066667  0.015625      1.1250  \n1    0.250    0.666667  1.066667  0.015625      1.1250  \n2    0.250    0.666667  1.333333  0.062500      1.5000  \n3    0.250    0.500000  1.333333  0.062500      1.2500  \n4    0.375    0.600000  0.960000 -0.015625      0.9375  \n5    0.375    0.600000  0.960000 -0.015625      0.9375  \n6    0.250    0.500000  0.800000 -0.062500      0.7500  \n7    0.250    1.000000  2.000000  0.125000         inf  \n8    0.250    0.500000  2.000000  0.125000      1.5000  \n9    0.250    0.500000  0.800000 -0.062500      0.7500  "
     },
     "execution_count": 20,
     "metadata": {},
     "output_type": "execute_result"
    }
   ],
   "source": [
    "association_rules(frequent_itemsets, metric=\"confidence\", min_threshold=0.5)"
   ]
  },
  {
   "cell_type": "code",
   "execution_count": 22,
   "metadata": {},
   "outputs": [
    {
     "data": {
      "text/html": "<div>\n<style scoped>\n    .dataframe tbody tr th:only-of-type {\n        vertical-align: middle;\n    }\n\n    .dataframe tbody tr th {\n        vertical-align: top;\n    }\n\n    .dataframe thead th {\n        text-align: right;\n    }\n</style>\n<table border=\"1\" class=\"dataframe\">\n  <thead>\n    <tr style=\"text-align: right;\">\n      <th></th>\n      <th>antecedents</th>\n      <th>consequents</th>\n      <th>antecedent support</th>\n      <th>consequent support</th>\n      <th>support</th>\n      <th>confidence</th>\n      <th>lift</th>\n      <th>leverage</th>\n      <th>conviction</th>\n    </tr>\n  </thead>\n  <tbody>\n    <tr>\n      <th>0</th>\n      <td>(apples)</td>\n      <td>(yogurt)</td>\n      <td>0.375</td>\n      <td>0.500</td>\n      <td>0.25</td>\n      <td>0.666667</td>\n      <td>1.333333</td>\n      <td>0.0625</td>\n      <td>1.50</td>\n    </tr>\n    <tr>\n      <th>1</th>\n      <td>(yogurt)</td>\n      <td>(apples)</td>\n      <td>0.500</td>\n      <td>0.375</td>\n      <td>0.25</td>\n      <td>0.500000</td>\n      <td>1.333333</td>\n      <td>0.0625</td>\n      <td>1.25</td>\n    </tr>\n    <tr>\n      <th>2</th>\n      <td>(bread)</td>\n      <td>(yogurt)</td>\n      <td>0.250</td>\n      <td>0.500</td>\n      <td>0.25</td>\n      <td>1.000000</td>\n      <td>2.000000</td>\n      <td>0.1250</td>\n      <td>inf</td>\n    </tr>\n    <tr>\n      <th>3</th>\n      <td>(yogurt)</td>\n      <td>(bread)</td>\n      <td>0.500</td>\n      <td>0.250</td>\n      <td>0.25</td>\n      <td>0.500000</td>\n      <td>2.000000</td>\n      <td>0.1250</td>\n      <td>1.50</td>\n    </tr>\n  </tbody>\n</table>\n</div>",
      "text/plain": "  antecedents consequents  antecedent support  consequent support  support  \\\n0    (apples)    (yogurt)               0.375               0.500     0.25   \n1    (yogurt)    (apples)               0.500               0.375     0.25   \n2     (bread)    (yogurt)               0.250               0.500     0.25   \n3    (yogurt)     (bread)               0.500               0.250     0.25   \n\n   confidence      lift  leverage  conviction  \n0    0.666667  1.333333    0.0625        1.50  \n1    0.500000  1.333333    0.0625        1.25  \n2    1.000000  2.000000    0.1250         inf  \n3    0.500000  2.000000    0.1250        1.50  "
     },
     "execution_count": 22,
     "metadata": {},
     "output_type": "execute_result"
    }
   ],
   "source": [
    "rules = association_rules(frequent_itemsets, metric=\"lift\", min_threshold=1.2)\r\n",
    "rules"
   ]
  },
  {
   "cell_type": "code",
   "execution_count": 23,
   "metadata": {},
   "outputs": [],
   "source": [
    "rules[\"antecedent_len\"] = rules[\"antecedents\"].apply(lambda x: len(x))"
   ]
  },
  {
   "cell_type": "code",
   "execution_count": 24,
   "metadata": {},
   "outputs": [
    {
     "data": {
      "text/html": "<div>\n<style scoped>\n    .dataframe tbody tr th:only-of-type {\n        vertical-align: middle;\n    }\n\n    .dataframe tbody tr th {\n        vertical-align: top;\n    }\n\n    .dataframe thead th {\n        text-align: right;\n    }\n</style>\n<table border=\"1\" class=\"dataframe\">\n  <thead>\n    <tr style=\"text-align: right;\">\n      <th></th>\n      <th>antecedents</th>\n      <th>consequents</th>\n      <th>antecedent support</th>\n      <th>consequent support</th>\n      <th>support</th>\n      <th>confidence</th>\n      <th>lift</th>\n      <th>leverage</th>\n      <th>conviction</th>\n      <th>antecedent_len</th>\n    </tr>\n  </thead>\n  <tbody>\n    <tr>\n      <th>0</th>\n      <td>(apples)</td>\n      <td>(yogurt)</td>\n      <td>0.375</td>\n      <td>0.500</td>\n      <td>0.25</td>\n      <td>0.666667</td>\n      <td>1.333333</td>\n      <td>0.0625</td>\n      <td>1.50</td>\n      <td>1</td>\n    </tr>\n    <tr>\n      <th>1</th>\n      <td>(yogurt)</td>\n      <td>(apples)</td>\n      <td>0.500</td>\n      <td>0.375</td>\n      <td>0.25</td>\n      <td>0.500000</td>\n      <td>1.333333</td>\n      <td>0.0625</td>\n      <td>1.25</td>\n      <td>1</td>\n    </tr>\n    <tr>\n      <th>2</th>\n      <td>(bread)</td>\n      <td>(yogurt)</td>\n      <td>0.250</td>\n      <td>0.500</td>\n      <td>0.25</td>\n      <td>1.000000</td>\n      <td>2.000000</td>\n      <td>0.1250</td>\n      <td>inf</td>\n      <td>1</td>\n    </tr>\n    <tr>\n      <th>3</th>\n      <td>(yogurt)</td>\n      <td>(bread)</td>\n      <td>0.500</td>\n      <td>0.250</td>\n      <td>0.25</td>\n      <td>0.500000</td>\n      <td>2.000000</td>\n      <td>0.1250</td>\n      <td>1.50</td>\n      <td>1</td>\n    </tr>\n  </tbody>\n</table>\n</div>",
      "text/plain": "  antecedents consequents  antecedent support  consequent support  support  \\\n0    (apples)    (yogurt)               0.375               0.500     0.25   \n1    (yogurt)    (apples)               0.500               0.375     0.25   \n2     (bread)    (yogurt)               0.250               0.500     0.25   \n3    (yogurt)     (bread)               0.500               0.250     0.25   \n\n   confidence      lift  leverage  conviction  antecedent_len  \n0    0.666667  1.333333    0.0625        1.50               1  \n1    0.500000  1.333333    0.0625        1.25               1  \n2    1.000000  2.000000    0.1250         inf               1  \n3    0.500000  2.000000    0.1250        1.50               1  "
     },
     "execution_count": 24,
     "metadata": {},
     "output_type": "execute_result"
    }
   ],
   "source": [
    "rules"
   ]
  },
  {
   "cell_type": "code",
   "execution_count": 28,
   "metadata": {},
   "outputs": [
    {
     "data": {
      "text/plain": "['vanilla wafers', 'dog food', 'bananas']"
     },
     "execution_count": 28,
     "metadata": {},
     "output_type": "execute_result"
    }
   ],
   "source": [
    "list(basket1)"
   ]
  },
  {
   "cell_type": "code",
   "execution_count": 35,
   "metadata": {},
   "outputs": [],
   "source": [
    "basket1 = {'Power Bank', 'Screen Guard' , 'Travel Charger'}\r\n",
    "basket2 = {'Screen Guard', 'Bluetooth Headset', 'Mobile Cover'}\r\n",
    "basket3 = {'Screen Guard', 'Arm Band', 'Mobile Cover'}\r\n",
    "basket4 = {'Power Bank', 'Screen Guard', 'Leather Pouch'}\r\n",
    "basket5 = {'Bluetooth Headset', 'Power Bank' , 'Mobile Cover'}"
   ]
  },
  {
   "cell_type": "code",
   "execution_count": 37,
   "metadata": {},
   "outputs": [
    {
     "data": {
      "text/plain": "',basket6,basket7,basket8,basket9,basket10'"
     },
     "execution_count": 37,
     "metadata": {},
     "output_type": "execute_result"
    }
   ],
   "source": [
    "var = [basket1,basket2,basket3,basket4,basket5]\r\n",
    "\"\"\",basket6,basket7,basket8,basket9,basket10\"\"\""
   ]
  },
  {
   "cell_type": "code",
   "execution_count": 38,
   "metadata": {},
   "outputs": [],
   "source": [
    "data = [list(i) for i in var]"
   ]
  },
  {
   "cell_type": "code",
   "execution_count": 39,
   "metadata": {},
   "outputs": [
    {
     "data": {
      "text/plain": "[['Screen Guard', 'Travel Charger', 'Power Bank'],\n ['Screen Guard', 'Mobile Cover', 'Bluetooth Headset'],\n ['Screen Guard', 'Mobile Cover', 'Arm Band'],\n ['Screen Guard', 'Leather Pouch', 'Power Bank'],\n ['Mobile Cover', 'Bluetooth Headset', 'Power Bank']]"
     },
     "execution_count": 39,
     "metadata": {},
     "output_type": "execute_result"
    }
   ],
   "source": [
    "data"
   ]
  },
  {
   "cell_type": "code",
   "execution_count": 41,
   "metadata": {},
   "outputs": [
    {
     "data": {
      "text/html": "<div>\n<style scoped>\n    .dataframe tbody tr th:only-of-type {\n        vertical-align: middle;\n    }\n\n    .dataframe tbody tr th {\n        vertical-align: top;\n    }\n\n    .dataframe thead th {\n        text-align: right;\n    }\n</style>\n<table border=\"1\" class=\"dataframe\">\n  <thead>\n    <tr style=\"text-align: right;\">\n      <th></th>\n      <th>Arm Band</th>\n      <th>Bluetooth Headset</th>\n      <th>Leather Pouch</th>\n      <th>Mobile Cover</th>\n      <th>Power Bank</th>\n      <th>Screen Guard</th>\n      <th>Travel Charger</th>\n    </tr>\n  </thead>\n  <tbody>\n    <tr>\n      <th>0</th>\n      <td>False</td>\n      <td>False</td>\n      <td>False</td>\n      <td>False</td>\n      <td>True</td>\n      <td>True</td>\n      <td>True</td>\n    </tr>\n    <tr>\n      <th>1</th>\n      <td>False</td>\n      <td>True</td>\n      <td>False</td>\n      <td>True</td>\n      <td>False</td>\n      <td>True</td>\n      <td>False</td>\n    </tr>\n    <tr>\n      <th>2</th>\n      <td>True</td>\n      <td>False</td>\n      <td>False</td>\n      <td>True</td>\n      <td>False</td>\n      <td>True</td>\n      <td>False</td>\n    </tr>\n    <tr>\n      <th>3</th>\n      <td>False</td>\n      <td>False</td>\n      <td>True</td>\n      <td>False</td>\n      <td>True</td>\n      <td>True</td>\n      <td>False</td>\n    </tr>\n    <tr>\n      <th>4</th>\n      <td>False</td>\n      <td>True</td>\n      <td>False</td>\n      <td>True</td>\n      <td>True</td>\n      <td>False</td>\n      <td>False</td>\n    </tr>\n  </tbody>\n</table>\n</div>",
      "text/plain": "   Arm Band  Bluetooth Headset  Leather Pouch  Mobile Cover  Power Bank  \\\n0     False              False          False         False        True   \n1     False               True          False          True       False   \n2      True              False          False          True       False   \n3     False              False           True         False        True   \n4     False               True          False          True        True   \n\n   Screen Guard  Travel Charger  \n0          True            True  \n1          True           False  \n2          True           False  \n3          True           False  \n4         False           False  "
     },
     "execution_count": 41,
     "metadata": {},
     "output_type": "execute_result"
    }
   ],
   "source": [
    "te = TransactionEncoder()\r\n",
    "te_ary = te.fit(data).transform(data)\r\n",
    "df = pd.DataFrame(te_ary, columns=te.columns_)\r\n",
    "df"
   ]
  },
  {
   "cell_type": "code",
   "execution_count": 45,
   "metadata": {},
   "outputs": [],
   "source": [
    "frequent_itemsets = apriori(df, min_support=0.1, use_colnames=True)"
   ]
  },
  {
   "cell_type": "code",
   "execution_count": 46,
   "metadata": {},
   "outputs": [
    {
     "data": {
      "text/html": "<div>\n<style scoped>\n    .dataframe tbody tr th:only-of-type {\n        vertical-align: middle;\n    }\n\n    .dataframe tbody tr th {\n        vertical-align: top;\n    }\n\n    .dataframe thead th {\n        text-align: right;\n    }\n</style>\n<table border=\"1\" class=\"dataframe\">\n  <thead>\n    <tr style=\"text-align: right;\">\n      <th></th>\n      <th>support</th>\n      <th>itemsets</th>\n    </tr>\n  </thead>\n  <tbody>\n    <tr>\n      <th>0</th>\n      <td>0.2</td>\n      <td>(Arm Band)</td>\n    </tr>\n    <tr>\n      <th>1</th>\n      <td>0.4</td>\n      <td>(Bluetooth Headset)</td>\n    </tr>\n    <tr>\n      <th>2</th>\n      <td>0.2</td>\n      <td>(Leather Pouch)</td>\n    </tr>\n    <tr>\n      <th>3</th>\n      <td>0.6</td>\n      <td>(Mobile Cover)</td>\n    </tr>\n    <tr>\n      <th>4</th>\n      <td>0.6</td>\n      <td>(Power Bank)</td>\n    </tr>\n    <tr>\n      <th>5</th>\n      <td>0.8</td>\n      <td>(Screen Guard)</td>\n    </tr>\n    <tr>\n      <th>6</th>\n      <td>0.2</td>\n      <td>(Travel Charger)</td>\n    </tr>\n    <tr>\n      <th>7</th>\n      <td>0.2</td>\n      <td>(Mobile Cover, Arm Band)</td>\n    </tr>\n    <tr>\n      <th>8</th>\n      <td>0.2</td>\n      <td>(Screen Guard, Arm Band)</td>\n    </tr>\n    <tr>\n      <th>9</th>\n      <td>0.4</td>\n      <td>(Mobile Cover, Bluetooth Headset)</td>\n    </tr>\n    <tr>\n      <th>10</th>\n      <td>0.2</td>\n      <td>(Bluetooth Headset, Power Bank)</td>\n    </tr>\n    <tr>\n      <th>11</th>\n      <td>0.2</td>\n      <td>(Screen Guard, Bluetooth Headset)</td>\n    </tr>\n    <tr>\n      <th>12</th>\n      <td>0.2</td>\n      <td>(Power Bank, Leather Pouch)</td>\n    </tr>\n    <tr>\n      <th>13</th>\n      <td>0.2</td>\n      <td>(Screen Guard, Leather Pouch)</td>\n    </tr>\n    <tr>\n      <th>14</th>\n      <td>0.2</td>\n      <td>(Mobile Cover, Power Bank)</td>\n    </tr>\n    <tr>\n      <th>15</th>\n      <td>0.4</td>\n      <td>(Mobile Cover, Screen Guard)</td>\n    </tr>\n    <tr>\n      <th>16</th>\n      <td>0.4</td>\n      <td>(Screen Guard, Power Bank)</td>\n    </tr>\n    <tr>\n      <th>17</th>\n      <td>0.2</td>\n      <td>(Travel Charger, Power Bank)</td>\n    </tr>\n    <tr>\n      <th>18</th>\n      <td>0.2</td>\n      <td>(Screen Guard, Travel Charger)</td>\n    </tr>\n    <tr>\n      <th>19</th>\n      <td>0.2</td>\n      <td>(Mobile Cover, Arm Band, Screen Guard)</td>\n    </tr>\n    <tr>\n      <th>20</th>\n      <td>0.2</td>\n      <td>(Mobile Cover, Bluetooth Headset, Power Bank)</td>\n    </tr>\n    <tr>\n      <th>21</th>\n      <td>0.2</td>\n      <td>(Mobile Cover, Bluetooth Headset, Screen Guard)</td>\n    </tr>\n    <tr>\n      <th>22</th>\n      <td>0.2</td>\n      <td>(Screen Guard, Power Bank, Leather Pouch)</td>\n    </tr>\n    <tr>\n      <th>23</th>\n      <td>0.2</td>\n      <td>(Screen Guard, Travel Charger, Power Bank)</td>\n    </tr>\n  </tbody>\n</table>\n</div>",
      "text/plain": "    support                                         itemsets\n0       0.2                                       (Arm Band)\n1       0.4                              (Bluetooth Headset)\n2       0.2                                  (Leather Pouch)\n3       0.6                                   (Mobile Cover)\n4       0.6                                     (Power Bank)\n5       0.8                                   (Screen Guard)\n6       0.2                                 (Travel Charger)\n7       0.2                         (Mobile Cover, Arm Band)\n8       0.2                         (Screen Guard, Arm Band)\n9       0.4                (Mobile Cover, Bluetooth Headset)\n10      0.2                  (Bluetooth Headset, Power Bank)\n11      0.2                (Screen Guard, Bluetooth Headset)\n12      0.2                      (Power Bank, Leather Pouch)\n13      0.2                    (Screen Guard, Leather Pouch)\n14      0.2                       (Mobile Cover, Power Bank)\n15      0.4                     (Mobile Cover, Screen Guard)\n16      0.4                       (Screen Guard, Power Bank)\n17      0.2                     (Travel Charger, Power Bank)\n18      0.2                   (Screen Guard, Travel Charger)\n19      0.2           (Mobile Cover, Arm Band, Screen Guard)\n20      0.2    (Mobile Cover, Bluetooth Headset, Power Bank)\n21      0.2  (Mobile Cover, Bluetooth Headset, Screen Guard)\n22      0.2        (Screen Guard, Power Bank, Leather Pouch)\n23      0.2       (Screen Guard, Travel Charger, Power Bank)"
     },
     "execution_count": 46,
     "metadata": {},
     "output_type": "execute_result"
    }
   ],
   "source": [
    "frequent_itemsets"
   ]
  },
  {
   "cell_type": "code",
   "execution_count": 53,
   "metadata": {},
   "outputs": [
    {
     "name": "stdout",
     "output_type": "stream",
     "text": [
      "n\n",
      "o\n",
      "n\n",
      "o\n",
      "u\n",
      "o\n",
      "i\n",
      "e\n",
      "o\n"
     ]
    }
   ],
   "source": [
    "for i in association_rules(frequent_itemsets, metric=\"confidence\", min_threshold=0.4):\r\n",
    "    print(i[:][1:2])"
   ]
  },
  {
   "cell_type": "code",
   "execution_count": 54,
   "metadata": {},
   "outputs": [
    {
     "data": {
      "text/html": "<div>\n<style scoped>\n    .dataframe tbody tr th:only-of-type {\n        vertical-align: middle;\n    }\n\n    .dataframe tbody tr th {\n        vertical-align: top;\n    }\n\n    .dataframe thead th {\n        text-align: right;\n    }\n</style>\n<table border=\"1\" class=\"dataframe\">\n  <thead>\n    <tr style=\"text-align: right;\">\n      <th></th>\n      <th>antecedents</th>\n      <th>consequents</th>\n      <th>antecedent support</th>\n      <th>consequent support</th>\n      <th>support</th>\n      <th>confidence</th>\n      <th>lift</th>\n      <th>leverage</th>\n      <th>conviction</th>\n    </tr>\n  </thead>\n  <tbody>\n    <tr>\n      <th>0</th>\n      <td>(Mobile Cover)</td>\n      <td>(Arm Band)</td>\n      <td>0.6</td>\n      <td>0.2</td>\n      <td>0.2</td>\n      <td>0.333333</td>\n      <td>1.666667</td>\n      <td>0.08</td>\n      <td>1.200000</td>\n    </tr>\n    <tr>\n      <th>1</th>\n      <td>(Arm Band)</td>\n      <td>(Mobile Cover)</td>\n      <td>0.2</td>\n      <td>0.6</td>\n      <td>0.2</td>\n      <td>1.000000</td>\n      <td>1.666667</td>\n      <td>0.08</td>\n      <td>inf</td>\n    </tr>\n    <tr>\n      <th>2</th>\n      <td>(Screen Guard)</td>\n      <td>(Arm Band)</td>\n      <td>0.8</td>\n      <td>0.2</td>\n      <td>0.2</td>\n      <td>0.250000</td>\n      <td>1.250000</td>\n      <td>0.04</td>\n      <td>1.066667</td>\n    </tr>\n    <tr>\n      <th>3</th>\n      <td>(Arm Band)</td>\n      <td>(Screen Guard)</td>\n      <td>0.2</td>\n      <td>0.8</td>\n      <td>0.2</td>\n      <td>1.000000</td>\n      <td>1.250000</td>\n      <td>0.04</td>\n      <td>inf</td>\n    </tr>\n    <tr>\n      <th>4</th>\n      <td>(Mobile Cover)</td>\n      <td>(Bluetooth Headset)</td>\n      <td>0.6</td>\n      <td>0.4</td>\n      <td>0.4</td>\n      <td>0.666667</td>\n      <td>1.666667</td>\n      <td>0.16</td>\n      <td>1.800000</td>\n    </tr>\n    <tr>\n      <th>5</th>\n      <td>(Bluetooth Headset)</td>\n      <td>(Mobile Cover)</td>\n      <td>0.4</td>\n      <td>0.6</td>\n      <td>0.4</td>\n      <td>1.000000</td>\n      <td>1.666667</td>\n      <td>0.16</td>\n      <td>inf</td>\n    </tr>\n    <tr>\n      <th>6</th>\n      <td>(Bluetooth Headset)</td>\n      <td>(Power Bank)</td>\n      <td>0.4</td>\n      <td>0.6</td>\n      <td>0.2</td>\n      <td>0.500000</td>\n      <td>0.833333</td>\n      <td>-0.04</td>\n      <td>0.800000</td>\n    </tr>\n    <tr>\n      <th>7</th>\n      <td>(Power Bank)</td>\n      <td>(Bluetooth Headset)</td>\n      <td>0.6</td>\n      <td>0.4</td>\n      <td>0.2</td>\n      <td>0.333333</td>\n      <td>0.833333</td>\n      <td>-0.04</td>\n      <td>0.900000</td>\n    </tr>\n    <tr>\n      <th>8</th>\n      <td>(Screen Guard)</td>\n      <td>(Bluetooth Headset)</td>\n      <td>0.8</td>\n      <td>0.4</td>\n      <td>0.2</td>\n      <td>0.250000</td>\n      <td>0.625000</td>\n      <td>-0.12</td>\n      <td>0.800000</td>\n    </tr>\n    <tr>\n      <th>9</th>\n      <td>(Bluetooth Headset)</td>\n      <td>(Screen Guard)</td>\n      <td>0.4</td>\n      <td>0.8</td>\n      <td>0.2</td>\n      <td>0.500000</td>\n      <td>0.625000</td>\n      <td>-0.12</td>\n      <td>0.400000</td>\n    </tr>\n    <tr>\n      <th>10</th>\n      <td>(Power Bank)</td>\n      <td>(Leather Pouch)</td>\n      <td>0.6</td>\n      <td>0.2</td>\n      <td>0.2</td>\n      <td>0.333333</td>\n      <td>1.666667</td>\n      <td>0.08</td>\n      <td>1.200000</td>\n    </tr>\n    <tr>\n      <th>11</th>\n      <td>(Leather Pouch)</td>\n      <td>(Power Bank)</td>\n      <td>0.2</td>\n      <td>0.6</td>\n      <td>0.2</td>\n      <td>1.000000</td>\n      <td>1.666667</td>\n      <td>0.08</td>\n      <td>inf</td>\n    </tr>\n    <tr>\n      <th>12</th>\n      <td>(Screen Guard)</td>\n      <td>(Leather Pouch)</td>\n      <td>0.8</td>\n      <td>0.2</td>\n      <td>0.2</td>\n      <td>0.250000</td>\n      <td>1.250000</td>\n      <td>0.04</td>\n      <td>1.066667</td>\n    </tr>\n    <tr>\n      <th>13</th>\n      <td>(Leather Pouch)</td>\n      <td>(Screen Guard)</td>\n      <td>0.2</td>\n      <td>0.8</td>\n      <td>0.2</td>\n      <td>1.000000</td>\n      <td>1.250000</td>\n      <td>0.04</td>\n      <td>inf</td>\n    </tr>\n    <tr>\n      <th>14</th>\n      <td>(Mobile Cover)</td>\n      <td>(Power Bank)</td>\n      <td>0.6</td>\n      <td>0.6</td>\n      <td>0.2</td>\n      <td>0.333333</td>\n      <td>0.555556</td>\n      <td>-0.16</td>\n      <td>0.600000</td>\n    </tr>\n    <tr>\n      <th>15</th>\n      <td>(Power Bank)</td>\n      <td>(Mobile Cover)</td>\n      <td>0.6</td>\n      <td>0.6</td>\n      <td>0.2</td>\n      <td>0.333333</td>\n      <td>0.555556</td>\n      <td>-0.16</td>\n      <td>0.600000</td>\n    </tr>\n    <tr>\n      <th>16</th>\n      <td>(Mobile Cover)</td>\n      <td>(Screen Guard)</td>\n      <td>0.6</td>\n      <td>0.8</td>\n      <td>0.4</td>\n      <td>0.666667</td>\n      <td>0.833333</td>\n      <td>-0.08</td>\n      <td>0.600000</td>\n    </tr>\n    <tr>\n      <th>17</th>\n      <td>(Screen Guard)</td>\n      <td>(Mobile Cover)</td>\n      <td>0.8</td>\n      <td>0.6</td>\n      <td>0.4</td>\n      <td>0.500000</td>\n      <td>0.833333</td>\n      <td>-0.08</td>\n      <td>0.800000</td>\n    </tr>\n    <tr>\n      <th>18</th>\n      <td>(Screen Guard)</td>\n      <td>(Power Bank)</td>\n      <td>0.8</td>\n      <td>0.6</td>\n      <td>0.4</td>\n      <td>0.500000</td>\n      <td>0.833333</td>\n      <td>-0.08</td>\n      <td>0.800000</td>\n    </tr>\n    <tr>\n      <th>19</th>\n      <td>(Power Bank)</td>\n      <td>(Screen Guard)</td>\n      <td>0.6</td>\n      <td>0.8</td>\n      <td>0.4</td>\n      <td>0.666667</td>\n      <td>0.833333</td>\n      <td>-0.08</td>\n      <td>0.600000</td>\n    </tr>\n    <tr>\n      <th>20</th>\n      <td>(Travel Charger)</td>\n      <td>(Power Bank)</td>\n      <td>0.2</td>\n      <td>0.6</td>\n      <td>0.2</td>\n      <td>1.000000</td>\n      <td>1.666667</td>\n      <td>0.08</td>\n      <td>inf</td>\n    </tr>\n    <tr>\n      <th>21</th>\n      <td>(Power Bank)</td>\n      <td>(Travel Charger)</td>\n      <td>0.6</td>\n      <td>0.2</td>\n      <td>0.2</td>\n      <td>0.333333</td>\n      <td>1.666667</td>\n      <td>0.08</td>\n      <td>1.200000</td>\n    </tr>\n    <tr>\n      <th>22</th>\n      <td>(Screen Guard)</td>\n      <td>(Travel Charger)</td>\n      <td>0.8</td>\n      <td>0.2</td>\n      <td>0.2</td>\n      <td>0.250000</td>\n      <td>1.250000</td>\n      <td>0.04</td>\n      <td>1.066667</td>\n    </tr>\n    <tr>\n      <th>23</th>\n      <td>(Travel Charger)</td>\n      <td>(Screen Guard)</td>\n      <td>0.2</td>\n      <td>0.8</td>\n      <td>0.2</td>\n      <td>1.000000</td>\n      <td>1.250000</td>\n      <td>0.04</td>\n      <td>inf</td>\n    </tr>\n    <tr>\n      <th>24</th>\n      <td>(Mobile Cover, Arm Band)</td>\n      <td>(Screen Guard)</td>\n      <td>0.2</td>\n      <td>0.8</td>\n      <td>0.2</td>\n      <td>1.000000</td>\n      <td>1.250000</td>\n      <td>0.04</td>\n      <td>inf</td>\n    </tr>\n    <tr>\n      <th>25</th>\n      <td>(Mobile Cover, Screen Guard)</td>\n      <td>(Arm Band)</td>\n      <td>0.4</td>\n      <td>0.2</td>\n      <td>0.2</td>\n      <td>0.500000</td>\n      <td>2.500000</td>\n      <td>0.12</td>\n      <td>1.600000</td>\n    </tr>\n    <tr>\n      <th>26</th>\n      <td>(Screen Guard, Arm Band)</td>\n      <td>(Mobile Cover)</td>\n      <td>0.2</td>\n      <td>0.6</td>\n      <td>0.2</td>\n      <td>1.000000</td>\n      <td>1.666667</td>\n      <td>0.08</td>\n      <td>inf</td>\n    </tr>\n    <tr>\n      <th>27</th>\n      <td>(Mobile Cover)</td>\n      <td>(Screen Guard, Arm Band)</td>\n      <td>0.6</td>\n      <td>0.2</td>\n      <td>0.2</td>\n      <td>0.333333</td>\n      <td>1.666667</td>\n      <td>0.08</td>\n      <td>1.200000</td>\n    </tr>\n    <tr>\n      <th>28</th>\n      <td>(Arm Band)</td>\n      <td>(Mobile Cover, Screen Guard)</td>\n      <td>0.2</td>\n      <td>0.4</td>\n      <td>0.2</td>\n      <td>1.000000</td>\n      <td>2.500000</td>\n      <td>0.12</td>\n      <td>inf</td>\n    </tr>\n    <tr>\n      <th>29</th>\n      <td>(Screen Guard)</td>\n      <td>(Mobile Cover, Arm Band)</td>\n      <td>0.8</td>\n      <td>0.2</td>\n      <td>0.2</td>\n      <td>0.250000</td>\n      <td>1.250000</td>\n      <td>0.04</td>\n      <td>1.066667</td>\n    </tr>\n    <tr>\n      <th>30</th>\n      <td>(Mobile Cover, Bluetooth Headset)</td>\n      <td>(Power Bank)</td>\n      <td>0.4</td>\n      <td>0.6</td>\n      <td>0.2</td>\n      <td>0.500000</td>\n      <td>0.833333</td>\n      <td>-0.04</td>\n      <td>0.800000</td>\n    </tr>\n    <tr>\n      <th>31</th>\n      <td>(Mobile Cover, Power Bank)</td>\n      <td>(Bluetooth Headset)</td>\n      <td>0.2</td>\n      <td>0.4</td>\n      <td>0.2</td>\n      <td>1.000000</td>\n      <td>2.500000</td>\n      <td>0.12</td>\n      <td>inf</td>\n    </tr>\n    <tr>\n      <th>32</th>\n      <td>(Bluetooth Headset, Power Bank)</td>\n      <td>(Mobile Cover)</td>\n      <td>0.2</td>\n      <td>0.6</td>\n      <td>0.2</td>\n      <td>1.000000</td>\n      <td>1.666667</td>\n      <td>0.08</td>\n      <td>inf</td>\n    </tr>\n    <tr>\n      <th>33</th>\n      <td>(Mobile Cover)</td>\n      <td>(Bluetooth Headset, Power Bank)</td>\n      <td>0.6</td>\n      <td>0.2</td>\n      <td>0.2</td>\n      <td>0.333333</td>\n      <td>1.666667</td>\n      <td>0.08</td>\n      <td>1.200000</td>\n    </tr>\n    <tr>\n      <th>34</th>\n      <td>(Bluetooth Headset)</td>\n      <td>(Mobile Cover, Power Bank)</td>\n      <td>0.4</td>\n      <td>0.2</td>\n      <td>0.2</td>\n      <td>0.500000</td>\n      <td>2.500000</td>\n      <td>0.12</td>\n      <td>1.600000</td>\n    </tr>\n    <tr>\n      <th>35</th>\n      <td>(Power Bank)</td>\n      <td>(Mobile Cover, Bluetooth Headset)</td>\n      <td>0.6</td>\n      <td>0.4</td>\n      <td>0.2</td>\n      <td>0.333333</td>\n      <td>0.833333</td>\n      <td>-0.04</td>\n      <td>0.900000</td>\n    </tr>\n    <tr>\n      <th>36</th>\n      <td>(Mobile Cover, Bluetooth Headset)</td>\n      <td>(Screen Guard)</td>\n      <td>0.4</td>\n      <td>0.8</td>\n      <td>0.2</td>\n      <td>0.500000</td>\n      <td>0.625000</td>\n      <td>-0.12</td>\n      <td>0.400000</td>\n    </tr>\n    <tr>\n      <th>37</th>\n      <td>(Mobile Cover, Screen Guard)</td>\n      <td>(Bluetooth Headset)</td>\n      <td>0.4</td>\n      <td>0.4</td>\n      <td>0.2</td>\n      <td>0.500000</td>\n      <td>1.250000</td>\n      <td>0.04</td>\n      <td>1.200000</td>\n    </tr>\n    <tr>\n      <th>38</th>\n      <td>(Screen Guard, Bluetooth Headset)</td>\n      <td>(Mobile Cover)</td>\n      <td>0.2</td>\n      <td>0.6</td>\n      <td>0.2</td>\n      <td>1.000000</td>\n      <td>1.666667</td>\n      <td>0.08</td>\n      <td>inf</td>\n    </tr>\n    <tr>\n      <th>39</th>\n      <td>(Mobile Cover)</td>\n      <td>(Screen Guard, Bluetooth Headset)</td>\n      <td>0.6</td>\n      <td>0.2</td>\n      <td>0.2</td>\n      <td>0.333333</td>\n      <td>1.666667</td>\n      <td>0.08</td>\n      <td>1.200000</td>\n    </tr>\n    <tr>\n      <th>40</th>\n      <td>(Bluetooth Headset)</td>\n      <td>(Mobile Cover, Screen Guard)</td>\n      <td>0.4</td>\n      <td>0.4</td>\n      <td>0.2</td>\n      <td>0.500000</td>\n      <td>1.250000</td>\n      <td>0.04</td>\n      <td>1.200000</td>\n    </tr>\n    <tr>\n      <th>41</th>\n      <td>(Screen Guard)</td>\n      <td>(Mobile Cover, Bluetooth Headset)</td>\n      <td>0.8</td>\n      <td>0.4</td>\n      <td>0.2</td>\n      <td>0.250000</td>\n      <td>0.625000</td>\n      <td>-0.12</td>\n      <td>0.800000</td>\n    </tr>\n    <tr>\n      <th>42</th>\n      <td>(Screen Guard, Power Bank)</td>\n      <td>(Leather Pouch)</td>\n      <td>0.4</td>\n      <td>0.2</td>\n      <td>0.2</td>\n      <td>0.500000</td>\n      <td>2.500000</td>\n      <td>0.12</td>\n      <td>1.600000</td>\n    </tr>\n    <tr>\n      <th>43</th>\n      <td>(Screen Guard, Leather Pouch)</td>\n      <td>(Power Bank)</td>\n      <td>0.2</td>\n      <td>0.6</td>\n      <td>0.2</td>\n      <td>1.000000</td>\n      <td>1.666667</td>\n      <td>0.08</td>\n      <td>inf</td>\n    </tr>\n    <tr>\n      <th>44</th>\n      <td>(Leather Pouch, Power Bank)</td>\n      <td>(Screen Guard)</td>\n      <td>0.2</td>\n      <td>0.8</td>\n      <td>0.2</td>\n      <td>1.000000</td>\n      <td>1.250000</td>\n      <td>0.04</td>\n      <td>inf</td>\n    </tr>\n    <tr>\n      <th>45</th>\n      <td>(Screen Guard)</td>\n      <td>(Leather Pouch, Power Bank)</td>\n      <td>0.8</td>\n      <td>0.2</td>\n      <td>0.2</td>\n      <td>0.250000</td>\n      <td>1.250000</td>\n      <td>0.04</td>\n      <td>1.066667</td>\n    </tr>\n    <tr>\n      <th>46</th>\n      <td>(Power Bank)</td>\n      <td>(Screen Guard, Leather Pouch)</td>\n      <td>0.6</td>\n      <td>0.2</td>\n      <td>0.2</td>\n      <td>0.333333</td>\n      <td>1.666667</td>\n      <td>0.08</td>\n      <td>1.200000</td>\n    </tr>\n    <tr>\n      <th>47</th>\n      <td>(Leather Pouch)</td>\n      <td>(Screen Guard, Power Bank)</td>\n      <td>0.2</td>\n      <td>0.4</td>\n      <td>0.2</td>\n      <td>1.000000</td>\n      <td>2.500000</td>\n      <td>0.12</td>\n      <td>inf</td>\n    </tr>\n    <tr>\n      <th>48</th>\n      <td>(Screen Guard, Travel Charger)</td>\n      <td>(Power Bank)</td>\n      <td>0.2</td>\n      <td>0.6</td>\n      <td>0.2</td>\n      <td>1.000000</td>\n      <td>1.666667</td>\n      <td>0.08</td>\n      <td>inf</td>\n    </tr>\n    <tr>\n      <th>49</th>\n      <td>(Screen Guard, Power Bank)</td>\n      <td>(Travel Charger)</td>\n      <td>0.4</td>\n      <td>0.2</td>\n      <td>0.2</td>\n      <td>0.500000</td>\n      <td>2.500000</td>\n      <td>0.12</td>\n      <td>1.600000</td>\n    </tr>\n    <tr>\n      <th>50</th>\n      <td>(Travel Charger, Power Bank)</td>\n      <td>(Screen Guard)</td>\n      <td>0.2</td>\n      <td>0.8</td>\n      <td>0.2</td>\n      <td>1.000000</td>\n      <td>1.250000</td>\n      <td>0.04</td>\n      <td>inf</td>\n    </tr>\n    <tr>\n      <th>51</th>\n      <td>(Screen Guard)</td>\n      <td>(Travel Charger, Power Bank)</td>\n      <td>0.8</td>\n      <td>0.2</td>\n      <td>0.2</td>\n      <td>0.250000</td>\n      <td>1.250000</td>\n      <td>0.04</td>\n      <td>1.066667</td>\n    </tr>\n    <tr>\n      <th>52</th>\n      <td>(Travel Charger)</td>\n      <td>(Screen Guard, Power Bank)</td>\n      <td>0.2</td>\n      <td>0.4</td>\n      <td>0.2</td>\n      <td>1.000000</td>\n      <td>2.500000</td>\n      <td>0.12</td>\n      <td>inf</td>\n    </tr>\n    <tr>\n      <th>53</th>\n      <td>(Power Bank)</td>\n      <td>(Screen Guard, Travel Charger)</td>\n      <td>0.6</td>\n      <td>0.2</td>\n      <td>0.2</td>\n      <td>0.333333</td>\n      <td>1.666667</td>\n      <td>0.08</td>\n      <td>1.200000</td>\n    </tr>\n  </tbody>\n</table>\n</div>",
      "text/plain": "                          antecedents                        consequents  \\\n0                      (Mobile Cover)                         (Arm Band)   \n1                          (Arm Band)                     (Mobile Cover)   \n2                      (Screen Guard)                         (Arm Band)   \n3                          (Arm Band)                     (Screen Guard)   \n4                      (Mobile Cover)                (Bluetooth Headset)   \n5                 (Bluetooth Headset)                     (Mobile Cover)   \n6                 (Bluetooth Headset)                       (Power Bank)   \n7                        (Power Bank)                (Bluetooth Headset)   \n8                      (Screen Guard)                (Bluetooth Headset)   \n9                 (Bluetooth Headset)                     (Screen Guard)   \n10                       (Power Bank)                    (Leather Pouch)   \n11                    (Leather Pouch)                       (Power Bank)   \n12                     (Screen Guard)                    (Leather Pouch)   \n13                    (Leather Pouch)                     (Screen Guard)   \n14                     (Mobile Cover)                       (Power Bank)   \n15                       (Power Bank)                     (Mobile Cover)   \n16                     (Mobile Cover)                     (Screen Guard)   \n17                     (Screen Guard)                     (Mobile Cover)   \n18                     (Screen Guard)                       (Power Bank)   \n19                       (Power Bank)                     (Screen Guard)   \n20                   (Travel Charger)                       (Power Bank)   \n21                       (Power Bank)                   (Travel Charger)   \n22                     (Screen Guard)                   (Travel Charger)   \n23                   (Travel Charger)                     (Screen Guard)   \n24           (Mobile Cover, Arm Band)                     (Screen Guard)   \n25       (Mobile Cover, Screen Guard)                         (Arm Band)   \n26           (Screen Guard, Arm Band)                     (Mobile Cover)   \n27                     (Mobile Cover)           (Screen Guard, Arm Band)   \n28                         (Arm Band)       (Mobile Cover, Screen Guard)   \n29                     (Screen Guard)           (Mobile Cover, Arm Band)   \n30  (Mobile Cover, Bluetooth Headset)                       (Power Bank)   \n31         (Mobile Cover, Power Bank)                (Bluetooth Headset)   \n32    (Bluetooth Headset, Power Bank)                     (Mobile Cover)   \n33                     (Mobile Cover)    (Bluetooth Headset, Power Bank)   \n34                (Bluetooth Headset)         (Mobile Cover, Power Bank)   \n35                       (Power Bank)  (Mobile Cover, Bluetooth Headset)   \n36  (Mobile Cover, Bluetooth Headset)                     (Screen Guard)   \n37       (Mobile Cover, Screen Guard)                (Bluetooth Headset)   \n38  (Screen Guard, Bluetooth Headset)                     (Mobile Cover)   \n39                     (Mobile Cover)  (Screen Guard, Bluetooth Headset)   \n40                (Bluetooth Headset)       (Mobile Cover, Screen Guard)   \n41                     (Screen Guard)  (Mobile Cover, Bluetooth Headset)   \n42         (Screen Guard, Power Bank)                    (Leather Pouch)   \n43      (Screen Guard, Leather Pouch)                       (Power Bank)   \n44        (Leather Pouch, Power Bank)                     (Screen Guard)   \n45                     (Screen Guard)        (Leather Pouch, Power Bank)   \n46                       (Power Bank)      (Screen Guard, Leather Pouch)   \n47                    (Leather Pouch)         (Screen Guard, Power Bank)   \n48     (Screen Guard, Travel Charger)                       (Power Bank)   \n49         (Screen Guard, Power Bank)                   (Travel Charger)   \n50       (Travel Charger, Power Bank)                     (Screen Guard)   \n51                     (Screen Guard)       (Travel Charger, Power Bank)   \n52                   (Travel Charger)         (Screen Guard, Power Bank)   \n53                       (Power Bank)     (Screen Guard, Travel Charger)   \n\n    antecedent support  consequent support  support  confidence      lift  \\\n0                  0.6                 0.2      0.2    0.333333  1.666667   \n1                  0.2                 0.6      0.2    1.000000  1.666667   \n2                  0.8                 0.2      0.2    0.250000  1.250000   \n3                  0.2                 0.8      0.2    1.000000  1.250000   \n4                  0.6                 0.4      0.4    0.666667  1.666667   \n5                  0.4                 0.6      0.4    1.000000  1.666667   \n6                  0.4                 0.6      0.2    0.500000  0.833333   \n7                  0.6                 0.4      0.2    0.333333  0.833333   \n8                  0.8                 0.4      0.2    0.250000  0.625000   \n9                  0.4                 0.8      0.2    0.500000  0.625000   \n10                 0.6                 0.2      0.2    0.333333  1.666667   \n11                 0.2                 0.6      0.2    1.000000  1.666667   \n12                 0.8                 0.2      0.2    0.250000  1.250000   \n13                 0.2                 0.8      0.2    1.000000  1.250000   \n14                 0.6                 0.6      0.2    0.333333  0.555556   \n15                 0.6                 0.6      0.2    0.333333  0.555556   \n16                 0.6                 0.8      0.4    0.666667  0.833333   \n17                 0.8                 0.6      0.4    0.500000  0.833333   \n18                 0.8                 0.6      0.4    0.500000  0.833333   \n19                 0.6                 0.8      0.4    0.666667  0.833333   \n20                 0.2                 0.6      0.2    1.000000  1.666667   \n21                 0.6                 0.2      0.2    0.333333  1.666667   \n22                 0.8                 0.2      0.2    0.250000  1.250000   \n23                 0.2                 0.8      0.2    1.000000  1.250000   \n24                 0.2                 0.8      0.2    1.000000  1.250000   \n25                 0.4                 0.2      0.2    0.500000  2.500000   \n26                 0.2                 0.6      0.2    1.000000  1.666667   \n27                 0.6                 0.2      0.2    0.333333  1.666667   \n28                 0.2                 0.4      0.2    1.000000  2.500000   \n29                 0.8                 0.2      0.2    0.250000  1.250000   \n30                 0.4                 0.6      0.2    0.500000  0.833333   \n31                 0.2                 0.4      0.2    1.000000  2.500000   \n32                 0.2                 0.6      0.2    1.000000  1.666667   \n33                 0.6                 0.2      0.2    0.333333  1.666667   \n34                 0.4                 0.2      0.2    0.500000  2.500000   \n35                 0.6                 0.4      0.2    0.333333  0.833333   \n36                 0.4                 0.8      0.2    0.500000  0.625000   \n37                 0.4                 0.4      0.2    0.500000  1.250000   \n38                 0.2                 0.6      0.2    1.000000  1.666667   \n39                 0.6                 0.2      0.2    0.333333  1.666667   \n40                 0.4                 0.4      0.2    0.500000  1.250000   \n41                 0.8                 0.4      0.2    0.250000  0.625000   \n42                 0.4                 0.2      0.2    0.500000  2.500000   \n43                 0.2                 0.6      0.2    1.000000  1.666667   \n44                 0.2                 0.8      0.2    1.000000  1.250000   \n45                 0.8                 0.2      0.2    0.250000  1.250000   \n46                 0.6                 0.2      0.2    0.333333  1.666667   \n47                 0.2                 0.4      0.2    1.000000  2.500000   \n48                 0.2                 0.6      0.2    1.000000  1.666667   \n49                 0.4                 0.2      0.2    0.500000  2.500000   \n50                 0.2                 0.8      0.2    1.000000  1.250000   \n51                 0.8                 0.2      0.2    0.250000  1.250000   \n52                 0.2                 0.4      0.2    1.000000  2.500000   \n53                 0.6                 0.2      0.2    0.333333  1.666667   \n\n    leverage  conviction  \n0       0.08    1.200000  \n1       0.08         inf  \n2       0.04    1.066667  \n3       0.04         inf  \n4       0.16    1.800000  \n5       0.16         inf  \n6      -0.04    0.800000  \n7      -0.04    0.900000  \n8      -0.12    0.800000  \n9      -0.12    0.400000  \n10      0.08    1.200000  \n11      0.08         inf  \n12      0.04    1.066667  \n13      0.04         inf  \n14     -0.16    0.600000  \n15     -0.16    0.600000  \n16     -0.08    0.600000  \n17     -0.08    0.800000  \n18     -0.08    0.800000  \n19     -0.08    0.600000  \n20      0.08         inf  \n21      0.08    1.200000  \n22      0.04    1.066667  \n23      0.04         inf  \n24      0.04         inf  \n25      0.12    1.600000  \n26      0.08         inf  \n27      0.08    1.200000  \n28      0.12         inf  \n29      0.04    1.066667  \n30     -0.04    0.800000  \n31      0.12         inf  \n32      0.08         inf  \n33      0.08    1.200000  \n34      0.12    1.600000  \n35     -0.04    0.900000  \n36     -0.12    0.400000  \n37      0.04    1.200000  \n38      0.08         inf  \n39      0.08    1.200000  \n40      0.04    1.200000  \n41     -0.12    0.800000  \n42      0.12    1.600000  \n43      0.08         inf  \n44      0.04         inf  \n45      0.04    1.066667  \n46      0.08    1.200000  \n47      0.12         inf  \n48      0.08         inf  \n49      0.12    1.600000  \n50      0.04         inf  \n51      0.04    1.066667  \n52      0.12         inf  \n53      0.08    1.200000  "
     },
     "execution_count": 54,
     "metadata": {},
     "output_type": "execute_result"
    }
   ],
   "source": [
    "association_rules(frequent_itemsets, metric=\"confidence\", min_threshold=0.2)"
   ]
  },
  {
   "cell_type": "code",
   "execution_count": 55,
   "metadata": {},
   "outputs": [],
   "source": [
    "dataset = [\r\n",
    "    ['vanilla wafers', 'bananas' , 'dog food'],\r\n",
    "    ['bananas', 'bread', 'yogurt'],\r\n",
    "    ['bananas','apples','yogurt'],\r\n",
    "    ['vanilla wafers','bananas','whipped cream'],\r\n",
    "    ['bread', 'vanilla wafers' , 'yogurt'],\r\n",
    "    ['milk' 'bread' 'bananas'],\r\n",
    "    ['vanilla wafers', 'apples' , 'bananas'],\r\n",
    "    ['yogurt', 'apples', 'vanilla wafers'],\r\n",
    "    \r\n",
    "]"
   ]
  },
  {
   "cell_type": "code",
   "execution_count": 56,
   "metadata": {},
   "outputs": [],
   "source": [
    "oht = TransactionEncoder()\r\n",
    "oht_ary = oht.fit(dataset).transform(dataset)\r\n",
    "df = pd.DataFrame(oht_ary, columns=oht.columns_)"
   ]
  },
  {
   "cell_type": "code",
   "execution_count": 57,
   "metadata": {},
   "outputs": [
    {
     "data": {
      "text/html": "<div>\n<style scoped>\n    .dataframe tbody tr th:only-of-type {\n        vertical-align: middle;\n    }\n\n    .dataframe tbody tr th {\n        vertical-align: top;\n    }\n\n    .dataframe thead th {\n        text-align: right;\n    }\n</style>\n<table border=\"1\" class=\"dataframe\">\n  <thead>\n    <tr style=\"text-align: right;\">\n      <th></th>\n      <th>apples</th>\n      <th>bananas</th>\n      <th>bread</th>\n      <th>dog food</th>\n      <th>milkbreadbananas</th>\n      <th>vanilla wafers</th>\n      <th>whipped cream</th>\n      <th>yogurt</th>\n    </tr>\n  </thead>\n  <tbody>\n    <tr>\n      <th>0</th>\n      <td>False</td>\n      <td>True</td>\n      <td>False</td>\n      <td>True</td>\n      <td>False</td>\n      <td>True</td>\n      <td>False</td>\n      <td>False</td>\n    </tr>\n    <tr>\n      <th>1</th>\n      <td>False</td>\n      <td>True</td>\n      <td>True</td>\n      <td>False</td>\n      <td>False</td>\n      <td>False</td>\n      <td>False</td>\n      <td>True</td>\n    </tr>\n    <tr>\n      <th>2</th>\n      <td>True</td>\n      <td>True</td>\n      <td>False</td>\n      <td>False</td>\n      <td>False</td>\n      <td>False</td>\n      <td>False</td>\n      <td>True</td>\n    </tr>\n    <tr>\n      <th>3</th>\n      <td>False</td>\n      <td>True</td>\n      <td>False</td>\n      <td>False</td>\n      <td>False</td>\n      <td>True</td>\n      <td>True</td>\n      <td>False</td>\n    </tr>\n    <tr>\n      <th>4</th>\n      <td>False</td>\n      <td>False</td>\n      <td>True</td>\n      <td>False</td>\n      <td>False</td>\n      <td>True</td>\n      <td>False</td>\n      <td>True</td>\n    </tr>\n    <tr>\n      <th>5</th>\n      <td>False</td>\n      <td>False</td>\n      <td>False</td>\n      <td>False</td>\n      <td>True</td>\n      <td>False</td>\n      <td>False</td>\n      <td>False</td>\n    </tr>\n    <tr>\n      <th>6</th>\n      <td>True</td>\n      <td>True</td>\n      <td>False</td>\n      <td>False</td>\n      <td>False</td>\n      <td>True</td>\n      <td>False</td>\n      <td>False</td>\n    </tr>\n    <tr>\n      <th>7</th>\n      <td>True</td>\n      <td>False</td>\n      <td>False</td>\n      <td>False</td>\n      <td>False</td>\n      <td>True</td>\n      <td>False</td>\n      <td>True</td>\n    </tr>\n  </tbody>\n</table>\n</div>",
      "text/plain": "   apples  bananas  bread  dog food  milkbreadbananas  vanilla wafers  \\\n0   False     True  False      True             False            True   \n1   False     True   True     False             False           False   \n2    True     True  False     False             False           False   \n3   False     True  False     False             False            True   \n4   False    False   True     False             False            True   \n5   False    False  False     False              True           False   \n6    True     True  False     False             False            True   \n7    True    False  False     False             False            True   \n\n   whipped cream  yogurt  \n0          False   False  \n1          False    True  \n2          False    True  \n3           True   False  \n4          False    True  \n5          False   False  \n6          False   False  \n7          False    True  "
     },
     "execution_count": 57,
     "metadata": {},
     "output_type": "execute_result"
    }
   ],
   "source": [
    "df"
   ]
  },
  {
   "cell_type": "code",
   "execution_count": 59,
   "metadata": {},
   "outputs": [
    {
     "data": {
      "text/html": "<div>\n<style scoped>\n    .dataframe tbody tr th:only-of-type {\n        vertical-align: middle;\n    }\n\n    .dataframe tbody tr th {\n        vertical-align: top;\n    }\n\n    .dataframe thead th {\n        text-align: right;\n    }\n</style>\n<table border=\"1\" class=\"dataframe\">\n  <thead>\n    <tr style=\"text-align: right;\">\n      <th></th>\n      <th>support</th>\n      <th>itemsets</th>\n    </tr>\n  </thead>\n  <tbody>\n    <tr>\n      <th>0</th>\n      <td>0.375</td>\n      <td>(apples)</td>\n    </tr>\n    <tr>\n      <th>1</th>\n      <td>0.625</td>\n      <td>(bananas)</td>\n    </tr>\n    <tr>\n      <th>2</th>\n      <td>0.250</td>\n      <td>(bread)</td>\n    </tr>\n    <tr>\n      <th>3</th>\n      <td>0.625</td>\n      <td>(vanilla wafers)</td>\n    </tr>\n    <tr>\n      <th>4</th>\n      <td>0.500</td>\n      <td>(yogurt)</td>\n    </tr>\n    <tr>\n      <th>5</th>\n      <td>0.250</td>\n      <td>(apples, bananas)</td>\n    </tr>\n    <tr>\n      <th>6</th>\n      <td>0.250</td>\n      <td>(apples, vanilla wafers)</td>\n    </tr>\n    <tr>\n      <th>7</th>\n      <td>0.250</td>\n      <td>(apples, yogurt)</td>\n    </tr>\n    <tr>\n      <th>8</th>\n      <td>0.375</td>\n      <td>(vanilla wafers, bananas)</td>\n    </tr>\n    <tr>\n      <th>9</th>\n      <td>0.250</td>\n      <td>(yogurt, bananas)</td>\n    </tr>\n    <tr>\n      <th>10</th>\n      <td>0.250</td>\n      <td>(bread, yogurt)</td>\n    </tr>\n    <tr>\n      <th>11</th>\n      <td>0.250</td>\n      <td>(vanilla wafers, yogurt)</td>\n    </tr>\n  </tbody>\n</table>\n</div>",
      "text/plain": "    support                   itemsets\n0     0.375                   (apples)\n1     0.625                  (bananas)\n2     0.250                    (bread)\n3     0.625           (vanilla wafers)\n4     0.500                   (yogurt)\n5     0.250          (apples, bananas)\n6     0.250   (apples, vanilla wafers)\n7     0.250           (apples, yogurt)\n8     0.375  (vanilla wafers, bananas)\n9     0.250          (yogurt, bananas)\n10    0.250            (bread, yogurt)\n11    0.250   (vanilla wafers, yogurt)"
     },
     "execution_count": 59,
     "metadata": {},
     "output_type": "execute_result"
    }
   ],
   "source": [
    "frequent_itemsets = apriori(df, min_support=0.2, use_colnames=True)\r\n",
    "frequent_itemsets"
   ]
  },
  {
   "cell_type": "code",
   "execution_count": 60,
   "metadata": {},
   "outputs": [],
   "source": [
    "Data = [['Power Bank', 'Screen Guard' , 'Travel Charger'],\r\n",
    " ['Screen Guard', 'Bluetooth Headset', 'Mobile Cover'],\r\n",
    " ['Screen Guard','Arm Band','Mobile Cover'],\r\n",
    " ['Power Bank','Screen Guard','Leather Pouch'],\r\n",
    " ['Bluetooth Headset', 'Power Bank' , 'Mobile Cover']]"
   ]
  },
  {
   "cell_type": "code",
   "execution_count": null,
   "metadata": {},
   "outputs": [],
   "source": []
  }
 ],
 "metadata": {
  "kernelspec": {
   "display_name": "Python 3",
   "language": "python",
   "name": "python3"
  },
  "language_info": {
   "codemirror_mode": {
    "name": "ipython",
    "version": 3
   },
   "file_extension": ".py",
   "mimetype": "text/x-python",
   "name": "python",
   "nbconvert_exporter": "python",
   "pygments_lexer": "ipython3",
   "version": "3.7.9"
  },
  "orig_nbformat": 2
 },
 "nbformat": 4,
 "nbformat_minor": 2
}