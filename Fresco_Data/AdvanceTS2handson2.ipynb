{
 "cells": [
  {
   "cell_type": "markdown",
   "metadata": {},
   "source": [
    "### Welcome to the second hands on advanced time series analysis.\n",
    "Follow the instruction provided for each cell to complete the handson. We have created this Python Notebook with all the necessary things needed for completing this exercise. \n",
    "\n",
    "To run the code in each cell click on the cell and press **shift + enter** "
   ]
  },
  {
   "cell_type": "markdown",
   "metadata": {},
   "source": [
    "**Load Data**\n",
    "- In this hands-on you will build an auto regressive model on train set and forecast on the test set\n",
    "- Run the below cell to load the data and split it to train and test set"
   ]
  },
  {
   "cell_type": "code",
   "execution_count": 2,
   "metadata": {},
   "outputs": [],
   "source": [
    "import pandas as pd\r\n",
    "from pandas import Series\r\n",
    "timeSeries = [30,21,29,31,40,48,53,47,37,39,31,29,17,9,20,24,27,35,41,38,\r\n",
    "          27,31,27,26,21,13,21,18,33,35,40,36,22,24,21,20,17,14,17,19,\r\n",
    "          26,29,40,31,20,24,18,26,17,9,17,21,28,32,46,33,23,28,22,27,\r\n",
    "          18,8,17,21,31,34,44,38,31,30,26,32]\r\n",
    "train, test = timeSeries[1:len(timeSeries)-10], timeSeries[len(timeSeries)-10:]"
   ]
  },
  {
   "cell_type": "markdown",
   "metadata": {},
   "source": [
    "**Build Auto Regressive Model**\n",
    "- Import AR from statsmodels\n",
    "- Initialize the model with train data and assign it to variable `model`.\n",
    "- Fit the model and return the result to variable `model_fit`."
   ]
  },
  {
   "cell_type": "code",
   "execution_count": 3,
   "metadata": {},
   "outputs": [],
   "source": [
    "from statsmodels.tsa.ar_model import AR\n",
    "\n",
    "from sklearn.metrics import mean_squared_error"
   ]
  },
  {
   "cell_type": "code",
   "execution_count": 4,
   "metadata": {},
   "outputs": [
    {
     "name": "stdout",
     "output_type": "stream",
     "text": [
      "Lag: 11\n",
      "Coefficients: [17.61119882  0.60959022 -0.46145298  0.34147052 -0.5535399   0.50364582\n",
      " -0.57076599  0.40686544 -0.48981335  0.36377344 -0.51010253  0.64166238]\n"
     ]
    },
    {
     "name": "stderr",
     "output_type": "stream",
     "text": [
      "C:\\Users\\HP\\AppData\\Roaming\\Python\\Python39\\site-packages\\statsmodels\\tsa\\ar_model.py:791: FutureWarning: \n",
      "statsmodels.tsa.AR has been deprecated in favor of statsmodels.tsa.AutoReg and\n",
      "statsmodels.tsa.SARIMAX.\n",
      "\n",
      "AutoReg adds the ability to specify exogenous variables, include time trends,\n",
      "and add seasonal dummies. The AutoReg API differs from AR since the model is\n",
      "treated as immutable, and so the entire specification including the lag\n",
      "length must be specified when creating the model. This change is too\n",
      "substantial to incorporate into the existing AR api. The function\n",
      "ar_select_order performs lag length selection for AutoReg models.\n",
      "\n",
      "AutoReg only estimates parameters using conditional MLE (OLS). Use SARIMAX to\n",
      "estimate ARX and related models using full MLE via the Kalman Filter.\n",
      "\n",
      "To silence this warning and continue using AR until it is removed, use:\n",
      "\n",
      "import warnings\n",
      "warnings.filterwarnings('ignore', 'statsmodels.tsa.ar_model.AR', FutureWarning)\n",
      "\n",
      "  warnings.warn(AR_DEPRECATION_WARN, FutureWarning)\n"
     ]
    }
   ],
   "source": [
    "model = AR(train)\n",
    "model_fit = model.fit()\n",
    "\n",
    "\n",
    "print('Lag: %s' % model_fit.k_ar)\n",
    "print('Coefficients: %s' % model_fit.params)"
   ]
  },
  {
   "cell_type": "markdown",
   "metadata": {},
   "source": [
    "**Prediction**\n",
    "- Using **model_fit** forecast (predict) the values by using start and end index of test data (follow the code snippet provided in the course) and assign the forecasted values to variable `predictions`"
   ]
  },
  {
   "cell_type": "code",
   "execution_count": 8,
   "metadata": {},
   "outputs": [
    {
     "name": "stdout",
     "output_type": "stream",
     "text": [
      "predicted=13.925993, expected=17.000000\n",
      "predicted=20.279285, expected=21.000000\n",
      "predicted=26.556221, expected=31.000000\n",
      "predicted=34.709756, expected=34.000000\n",
      "predicted=39.324673, expected=44.000000\n",
      "predicted=28.433625, expected=38.000000\n",
      "predicted=27.219552, expected=31.000000\n",
      "predicted=25.737600, expected=30.000000\n",
      "predicted=23.488579, expected=26.000000\n",
      "predicted=27.009755, expected=32.000000\n",
      "Test MSE: 20.726\n"
     ]
    }
   ],
   "source": [
    "from sklearn.metrics import mean_squared_error\r\n",
    "\r\n",
    "predictions = model_fit.predict(start=len(train), end=len(train)+len(test)-1, dynamic = False)\r\n",
    "\r\n",
    "\r\n",
    "#print Values\r\n",
    "for i in range(len(predictions)):\r\n",
    "    print('predicted=%f, expected=%f' % (predictions[i], test[i]))\r\n",
    "error = mean_squared_error(test, predictions)\r\n",
    "print('Test MSE: %.3f' % error)\r\n"
   ]
  },
  {
   "cell_type": "code",
   "execution_count": 9,
   "metadata": {},
   "outputs": [
    {
     "data": {
      "text/plain": "array([13.92599286, 20.27928473, 26.5562214 , 34.70975602, 39.32467273,\n       28.43362498, 27.21955229, 25.73760049, 23.48857881, 27.00975505])"
     },
     "execution_count": 9,
     "metadata": {},
     "output_type": "execute_result"
    }
   ],
   "source": [
    "predictions"
   ]
  },
  {
   "cell_type": "markdown",
   "metadata": {
    "collapsed": true
   },
   "source": [
    "### Run the below cell without modifying to save your answers\n"
   ]
  },
  {
   "cell_type": "code",
   "execution_count": 10,
   "metadata": {},
   "outputs": [
    {
     "ename": "FileNotFoundError",
     "evalue": "[Errno 2] No such file or directory: 'ans/output1.pkl'",
     "output_type": "error",
     "traceback": [
      "\u001b[1;31m---------------------------------------------------------------------------\u001b[0m",
      "\u001b[1;31mFileNotFoundError\u001b[0m                         Traceback (most recent call last)",
      "\u001b[1;32m<ipython-input-10-1928835c0319>\u001b[0m in \u001b[0;36m<module>\u001b[1;34m\u001b[0m\n\u001b[0;32m     10\u001b[0m     \u001b[0mprint\u001b[0m\u001b[1;33m(\u001b[0m\u001b[0mhexresult\u001b[0m\u001b[1;33m)\u001b[0m\u001b[1;33m\u001b[0m\u001b[1;33m\u001b[0m\u001b[0m\n\u001b[0;32m     11\u001b[0m     \u001b[0mpickle\u001b[0m\u001b[1;33m.\u001b[0m\u001b[0mdump\u001b[0m\u001b[1;33m(\u001b[0m\u001b[0mhexresult\u001b[0m\u001b[1;33m,\u001b[0m\u001b[0mfile\u001b[0m\u001b[1;33m)\u001b[0m\u001b[1;33m\u001b[0m\u001b[1;33m\u001b[0m\u001b[0m\n\u001b[1;32m---> 12\u001b[1;33m \u001b[0mpickle_ans1\u001b[0m\u001b[1;33m(\u001b[0m\u001b[0mround\u001b[0m\u001b[1;33m(\u001b[0m\u001b[0merror\u001b[0m\u001b[1;33m,\u001b[0m\u001b[1;36m2\u001b[0m\u001b[1;33m)\u001b[0m\u001b[1;33m)\u001b[0m\u001b[1;33m\u001b[0m\u001b[1;33m\u001b[0m\u001b[0m\n\u001b[0m",
      "\u001b[1;32m<ipython-input-10-1928835c0319>\u001b[0m in \u001b[0;36mpickle_ans1\u001b[1;34m(value)\u001b[0m\n\u001b[0;32m      6\u001b[0m \u001b[1;32mdef\u001b[0m \u001b[0mpickle_ans1\u001b[0m\u001b[1;33m(\u001b[0m\u001b[0mvalue\u001b[0m\u001b[1;33m)\u001b[0m\u001b[1;33m:\u001b[0m\u001b[1;33m\u001b[0m\u001b[1;33m\u001b[0m\u001b[0m\n\u001b[0;32m      7\u001b[0m   \u001b[0mhexresult\u001b[0m\u001b[1;33m=\u001b[0m\u001b[0mgethex\u001b[0m\u001b[1;33m(\u001b[0m\u001b[0mvalue\u001b[0m\u001b[1;33m)\u001b[0m\u001b[1;33m\u001b[0m\u001b[1;33m\u001b[0m\u001b[0m\n\u001b[1;32m----> 8\u001b[1;33m   \u001b[1;32mwith\u001b[0m \u001b[0mopen\u001b[0m\u001b[1;33m(\u001b[0m\u001b[1;34m'ans/output1.pkl'\u001b[0m\u001b[1;33m,\u001b[0m \u001b[1;34m'wb'\u001b[0m\u001b[1;33m)\u001b[0m \u001b[1;32mas\u001b[0m \u001b[0mfile\u001b[0m\u001b[1;33m:\u001b[0m\u001b[1;33m\u001b[0m\u001b[1;33m\u001b[0m\u001b[0m\n\u001b[0m\u001b[0;32m      9\u001b[0m     \u001b[0mhexresult\u001b[0m\u001b[1;33m=\u001b[0m\u001b[0mgethex\u001b[0m\u001b[1;33m(\u001b[0m\u001b[0mvalue\u001b[0m\u001b[1;33m)\u001b[0m\u001b[1;33m\u001b[0m\u001b[1;33m\u001b[0m\u001b[0m\n\u001b[0;32m     10\u001b[0m     \u001b[0mprint\u001b[0m\u001b[1;33m(\u001b[0m\u001b[0mhexresult\u001b[0m\u001b[1;33m)\u001b[0m\u001b[1;33m\u001b[0m\u001b[1;33m\u001b[0m\u001b[0m\n",
      "\u001b[1;31mFileNotFoundError\u001b[0m: [Errno 2] No such file or directory: 'ans/output1.pkl'"
     ]
    }
   ],
   "source": [
    "import hashlib\n",
    "import pickle\n",
    "def gethex(ovalue):\n",
    "  hexresult=hashlib.md5(str(ovalue).encode())\n",
    "  return hexresult.hexdigest()\n",
    "def pickle_ans1(value):\n",
    "  hexresult=gethex(value)\n",
    "  with open('ans/output1.pkl', 'wb') as file:\n",
    "    hexresult=gethex(value)\n",
    "    print(hexresult)\n",
    "    pickle.dump(hexresult,file)\n",
    "pickle_ans1(round(error,2))"
   ]
  },
  {
   "cell_type": "code",
   "execution_count": null,
   "metadata": {},
   "outputs": [],
   "source": []
  }
 ],
 "metadata": {
  "kernelspec": {
   "display_name": "Python 3.9.0 64-bit",
   "name": "python390jvsc74a57bd063fd5069d213b44bf678585dea6b12cceca9941eaf7f819626cde1f2670de90d"
  },
  "language_info": {
   "codemirror_mode": {
    "name": "ipython",
    "version": 3
   },
   "file_extension": ".py",
   "mimetype": "text/x-python",
   "name": "python",
   "nbconvert_exporter": "python",
   "pygments_lexer": "ipython3",
   "version": "3.9.0"
  }
 },
 "nbformat": 4,
 "nbformat_minor": 2
}