{
 "cells": [
  {
   "cell_type": "markdown",
   "metadata": {},
   "source": [
    "Pre Processing\n"
   ]
  },
  {
   "cell_type": "code",
   "execution_count": 1,
   "metadata": {},
   "outputs": [
    {
     "name": "stdout",
     "output_type": "stream",
     "text": [
      "[0.75140029 0.40517418 0.45478362 0.14107142]\n",
      "[[1. 0. 0.]\n",
      " [0. 1. 0.]\n",
      " [0. 0. 1.]]\n",
      "[6.262 2.872 4.906 1.676]\n"
     ]
    }
   ],
   "source": [
    "import sklearn.datasets as skd\n",
    "import sklearn.preprocessing as skp\n",
    "import numpy as np\n",
    "from sklearn.impute import SimpleImputer\n",
    "\n",
    "#loading data\n",
    "iris = skd.load_iris()\n",
    "\n",
    "#Normalizing using L2\n",
    "normalizer = skp.Normalizer(norm='l2').fit(iris.data)\n",
    "iris_normalized = normalizer.transform(iris.data)\n",
    "print(iris_normalized.mean(axis = 0))\n",
    "\n",
    "#OneHotEncoding\n",
    "enc = skp.OneHotEncoder()\n",
    "iris_target_onehot = enc.fit_transform(iris.target.reshape(-1, 1))\n",
    "print(iris_target_onehot.toarray()[[0,50,100]])\n",
    "\n",
    "#fill nan\n",
    "iris.data[:50,:] = np.nan\n",
    "\n",
    "#Imputation\n",
    "imputer = SimpleImputer(missing_values=np.nan, strategy='mean')\n",
    "imputer = imputer.fit(iris.data)\n",
    "iris_imputed = imputer.transform(iris.data)\n",
    "print(iris_imputed.mean(axis = 0))"
   ]
  },
  {
   "cell_type": "markdown",
   "metadata": {},
   "source": [
    "Hands-On KNN"
   ]
  },
  {
   "cell_type": "code",
   "execution_count": null,
   "metadata": {},
   "outputs": [],
   "source": [
    "import sklearn.datasets as skd\n",
    "from sklearn.model_selection import train_test_split\n",
    "from sklearn.neighbors import KNeighborsClassifier\n",
    "\n",
    "#loading data\n",
    "iris = skd.load_iris()\n",
    "\n",
    "#Spliting data\n",
    "X_train, X_test, Y_train, Y_test = train_test_split(iris.data\n",
    "                                                    , iris.target,stratify=iris.target,\n",
    "                                                     random_state=30)\n",
    "print(X_train.shape)\n",
    "print(X_test.shape)\n",
    "\n",
    "#Model Creation\n",
    "knn_classifier = KNeighborsClassifier()   \n",
    "\n",
    "knn_classifier = knn_classifier.fit(X_train, Y_train)\n",
    "\n",
    "print(knn_classifier.score(X_train,Y_train))\n",
    "print(knn_classifier.score(X_test,Y_test))\n",
    "l = []\n",
    "#Ranging n_neighbours values from 3 - 10\n",
    "for i in range(3,11):\n",
    "  knn_classifier = KNeighborsClassifier(n_neighbors = i)\n",
    "  knn_classifier = knn_classifier.fit(X_train, Y_train)\n",
    "  l.append(knn_classifier.score(X_train,Y_train))\n",
    "print(l.index(max(l)))"
   ]
  },
  {
   "cell_type": "markdown",
   "metadata": {},
   "source": [
    "Decision Tree - Hands-On"
   ]
  },
  {
   "cell_type": "code",
   "execution_count": 6,
   "metadata": {},
   "outputs": [
    {
     "name": "stdout",
     "output_type": "stream",
     "text": [
      "(379, 13)\n",
      "(127, 13)\n",
      "1.0\n",
      "0.8098834820264638\n",
      "[18.2 13.9]\n",
      "4\n"
     ]
    }
   ],
   "source": [
    "import sklearn.datasets as datasets\n",
    "import sklearn.model_selection as model_selection\n",
    "import numpy as np\n",
    "from sklearn.tree import DecisionTreeRegressor\n",
    "\n",
    "np.random.seed(100)\n",
    "\n",
    "\n",
    "boston = datasets.load_boston()\n",
    "\n",
    "X_train, X_test, Y_train, Y_test = model_selection.train_test_split(boston.data, boston.target,  random_state=30)\n",
    "\n",
    "print(X_train.shape)\n",
    "\n",
    "\n",
    "print(X_test.shape)\n",
    "\n",
    "\n",
    "\n",
    "dt_Regressor = DecisionTreeRegressor()\n",
    "\n",
    "dt_reg = dt_Regressor.fit(X_train, Y_train)\n",
    "\n",
    "print(dt_reg.score(X_train,Y_train))\n",
    "\n",
    "print(dt_reg.score(X_test,Y_test))\n",
    "\n",
    "predicted = dt_reg.predict(X_test[:2])\n",
    "print(predicted)\n",
    "\n",
    "\n",
    "\n",
    "max_depth = 2\n",
    "maxscore = 0\n",
    "for x in range(2, 6):\n",
    "     dt_Regressor = DecisionTreeRegressor(max_depth=x)\n",
    "     dt_reg = dt_Regressor.fit(X_train, Y_train)\n",
    "     score = dt_reg.score(X_test, Y_test)\n",
    "     if(maxscore < score):\n",
    "         max_depth = x\n",
    "         maxscore = score\n",
    "print(max_depth)"
   ]
  },
  {
   "cell_type": "markdown",
   "metadata": {},
   "source": [
    "Hands-On - Ensemble"
   ]
  },
  {
   "cell_type": "code",
   "execution_count": 4,
   "metadata": {},
   "outputs": [
    {
     "name": "stdout",
     "output_type": "stream",
     "text": [
      "(379, 13)\n",
      "(127, 13)\n",
      "0.9805545439239387\n",
      "0.88608530301534\n",
      "[19.17   9.887]\n",
      "(5, 100)\n"
     ]
    }
   ],
   "source": [
    "from sklearn.ensemble import RandomForestRegressor\n",
    "import sklearn.datasets as datasets\n",
    "import sklearn.model_selection as model_selection\n",
    "import numpy as np\n",
    "\n",
    "np.random.seed(100)\n",
    "boston = datasets.load_boston()\n",
    "\n",
    "X_train, X_test, Y_train, Y_test = model_selection.train_test_split(boston.data, \n",
    "      boston.target,  random_state=30)\n",
    "print(X_train.shape)\n",
    "print(X_test.shape)\n",
    "\n",
    "rf_Regressor = RandomForestRegressor()\n",
    "rf_reg = rf_Regressor.fit(X_train, Y_train)\n",
    "\n",
    "print(rf_reg.score(X_train,Y_train))\n",
    "print(rf_reg.score(X_test,Y_test))\n",
    "\n",
    "predicted = rf_reg.predict(X_test[:2])\n",
    "print(predicted)\n",
    "\n",
    "\n",
    "depths = []\n",
    "scores = []\n",
    "c_estimators = 100\n",
    "for x in range(2, 6):\n",
    "   rf_Regressor = RandomForestRegressor(n_estimators=c_estimators, max_depth=x)\n",
    "   rf_reg = rf_Regressor.fit(X_train, Y_train)\n",
    "   score = rf_reg.score(X_test, Y_test)\n",
    "   depths.append(x)\n",
    "   scores.append(rf_reg.score(X_test, Y_test))\n",
    "\n",
    "print( (depths[np.argmax(scores)],c_estimators) )"
   ]
  },
  {
   "cell_type": "markdown",
   "metadata": {},
   "source": [
    "Hands-On - SVM"
   ]
  },
  {
   "cell_type": "code",
   "execution_count": 14,
   "metadata": {},
   "outputs": [
    {
     "name": "stdout",
     "output_type": "stream",
     "text": [
      "(1347, 64)\n",
      "(450, 64)\n",
      "0.9822222222222222\n",
      "0.9733333333333334\n"
     ]
    }
   ],
   "source": [
    "import sklearn.datasets as sd\n",
    "import sklearn.preprocessing as skp\n",
    "import sklearn.model_selection as sms\n",
    "import numpy as np\n",
    "from sklearn.model_selection import train_test_split\n",
    "import sklearn.svm as ssvm\n",
    "np.random.seed(100)\n",
    "\n",
    "digits = sd.load_digits()\n",
    "X_train, X_test, Y_train, Y_test = train_test_split(digits.data, digits.target, \n",
    "                              random_state=30, stratify=digits.target)\n",
    "print(X_train.shape)\n",
    "print(X_test.shape)\n",
    "\n",
    "svm = ssvm.SVC()\n",
    "svm_clf = svm.fit(X_train, Y_train)\n",
    "print(svm_clf.score(X_test,Y_test))\n",
    "\n",
    "\n",
    "\n",
    "standardizer = skp.StandardScaler()\n",
    "standardizer = standardizer.fit(digits.data)\n",
    "digits_standardized = standardizer.transform(digits.data)\n",
    "X_train, X_test, Y_train, Y_test = train_test_split(digits_standardized, \n",
    "                      digits.target, random_state=30, stratify=digits.target)\n",
    "svm_clf2 = ssvm.SVC().fit(X_train, Y_train)\n",
    "print(svm_clf2.score(X_test,Y_test))"
   ]
  },
  {
   "cell_type": "markdown",
   "metadata": {},
   "source": [
    "Hands-On - Clustering"
   ]
  },
  {
   "cell_type": "code",
   "execution_count": null,
   "metadata": {},
   "outputs": [],
   "source": [
    "from sklearn import metrics\n",
    "import sklearn.datasets as skd\n",
    "from sklearn.cluster import KMeans, AgglomerativeClustering, AffinityPropagation\n",
    "\n",
    "iris = skd.load_iris()\n",
    "km = KMeans(n_clusters=3)\n",
    "km_cls = km.fit(iris.data)\n",
    "print(metrics.homogeneity_score(km_cls.predict(iris.data), iris.target))\n",
    "\n",
    "\n",
    "am = AgglomerativeClustering (n_clusters=3)\n",
    "agg_cls = am.fit(iris.data)\n",
    "print(metrics.homogeneity_score(agg_cls.fit_predict(iris.data), iris.target))\n",
    "\n",
    "af = AffinityPropagation()\n",
    "af_cls = af.fit(iris.data)\n",
    "print(metrics.homogeneity_score(af_cls.predict(iris.data), iris.target))"
   ]
  },
  {
   "cell_type": "code",
   "execution_count": 2,
   "metadata": {},
   "outputs": [
    {
     "data": {
      "text/plain": [
       "{'data': array([[6.3200e-03, 1.8000e+01, 2.3100e+00, ..., 1.5300e+01, 3.9690e+02,\n",
       "         4.9800e+00],\n",
       "        [2.7310e-02, 0.0000e+00, 7.0700e+00, ..., 1.7800e+01, 3.9690e+02,\n",
       "         9.1400e+00],\n",
       "        [2.7290e-02, 0.0000e+00, 7.0700e+00, ..., 1.7800e+01, 3.9283e+02,\n",
       "         4.0300e+00],\n",
       "        ...,\n",
       "        [6.0760e-02, 0.0000e+00, 1.1930e+01, ..., 2.1000e+01, 3.9690e+02,\n",
       "         5.6400e+00],\n",
       "        [1.0959e-01, 0.0000e+00, 1.1930e+01, ..., 2.1000e+01, 3.9345e+02,\n",
       "         6.4800e+00],\n",
       "        [4.7410e-02, 0.0000e+00, 1.1930e+01, ..., 2.1000e+01, 3.9690e+02,\n",
       "         7.8800e+00]]),\n",
       " 'target': array([24. , 21.6, 34.7, 33.4, 36.2, 28.7, 22.9, 27.1, 16.5, 18.9, 15. ,\n",
       "        18.9, 21.7, 20.4, 18.2, 19.9, 23.1, 17.5, 20.2, 18.2, 13.6, 19.6,\n",
       "        15.2, 14.5, 15.6, 13.9, 16.6, 14.8, 18.4, 21. , 12.7, 14.5, 13.2,\n",
       "        13.1, 13.5, 18.9, 20. , 21. , 24.7, 30.8, 34.9, 26.6, 25.3, 24.7,\n",
       "        21.2, 19.3, 20. , 16.6, 14.4, 19.4, 19.7, 20.5, 25. , 23.4, 18.9,\n",
       "        35.4, 24.7, 31.6, 23.3, 19.6, 18.7, 16. , 22.2, 25. , 33. , 23.5,\n",
       "        19.4, 22. , 17.4, 20.9, 24.2, 21.7, 22.8, 23.4, 24.1, 21.4, 20. ,\n",
       "        20.8, 21.2, 20.3, 28. , 23.9, 24.8, 22.9, 23.9, 26.6, 22.5, 22.2,\n",
       "        23.6, 28.7, 22.6, 22. , 22.9, 25. , 20.6, 28.4, 21.4, 38.7, 43.8,\n",
       "        33.2, 27.5, 26.5, 18.6, 19.3, 20.1, 19.5, 19.5, 20.4, 19.8, 19.4,\n",
       "        21.7, 22.8, 18.8, 18.7, 18.5, 18.3, 21.2, 19.2, 20.4, 19.3, 22. ,\n",
       "        20.3, 20.5, 17.3, 18.8, 21.4, 15.7, 16.2, 18. , 14.3, 19.2, 19.6,\n",
       "        23. , 18.4, 15.6, 18.1, 17.4, 17.1, 13.3, 17.8, 14. , 14.4, 13.4,\n",
       "        15.6, 11.8, 13.8, 15.6, 14.6, 17.8, 15.4, 21.5, 19.6, 15.3, 19.4,\n",
       "        17. , 15.6, 13.1, 41.3, 24.3, 23.3, 27. , 50. , 50. , 50. , 22.7,\n",
       "        25. , 50. , 23.8, 23.8, 22.3, 17.4, 19.1, 23.1, 23.6, 22.6, 29.4,\n",
       "        23.2, 24.6, 29.9, 37.2, 39.8, 36.2, 37.9, 32.5, 26.4, 29.6, 50. ,\n",
       "        32. , 29.8, 34.9, 37. , 30.5, 36.4, 31.1, 29.1, 50. , 33.3, 30.3,\n",
       "        34.6, 34.9, 32.9, 24.1, 42.3, 48.5, 50. , 22.6, 24.4, 22.5, 24.4,\n",
       "        20. , 21.7, 19.3, 22.4, 28.1, 23.7, 25. , 23.3, 28.7, 21.5, 23. ,\n",
       "        26.7, 21.7, 27.5, 30.1, 44.8, 50. , 37.6, 31.6, 46.7, 31.5, 24.3,\n",
       "        31.7, 41.7, 48.3, 29. , 24. , 25.1, 31.5, 23.7, 23.3, 22. , 20.1,\n",
       "        22.2, 23.7, 17.6, 18.5, 24.3, 20.5, 24.5, 26.2, 24.4, 24.8, 29.6,\n",
       "        42.8, 21.9, 20.9, 44. , 50. , 36. , 30.1, 33.8, 43.1, 48.8, 31. ,\n",
       "        36.5, 22.8, 30.7, 50. , 43.5, 20.7, 21.1, 25.2, 24.4, 35.2, 32.4,\n",
       "        32. , 33.2, 33.1, 29.1, 35.1, 45.4, 35.4, 46. , 50. , 32.2, 22. ,\n",
       "        20.1, 23.2, 22.3, 24.8, 28.5, 37.3, 27.9, 23.9, 21.7, 28.6, 27.1,\n",
       "        20.3, 22.5, 29. , 24.8, 22. , 26.4, 33.1, 36.1, 28.4, 33.4, 28.2,\n",
       "        22.8, 20.3, 16.1, 22.1, 19.4, 21.6, 23.8, 16.2, 17.8, 19.8, 23.1,\n",
       "        21. , 23.8, 23.1, 20.4, 18.5, 25. , 24.6, 23. , 22.2, 19.3, 22.6,\n",
       "        19.8, 17.1, 19.4, 22.2, 20.7, 21.1, 19.5, 18.5, 20.6, 19. , 18.7,\n",
       "        32.7, 16.5, 23.9, 31.2, 17.5, 17.2, 23.1, 24.5, 26.6, 22.9, 24.1,\n",
       "        18.6, 30.1, 18.2, 20.6, 17.8, 21.7, 22.7, 22.6, 25. , 19.9, 20.8,\n",
       "        16.8, 21.9, 27.5, 21.9, 23.1, 50. , 50. , 50. , 50. , 50. , 13.8,\n",
       "        13.8, 15. , 13.9, 13.3, 13.1, 10.2, 10.4, 10.9, 11.3, 12.3,  8.8,\n",
       "         7.2, 10.5,  7.4, 10.2, 11.5, 15.1, 23.2,  9.7, 13.8, 12.7, 13.1,\n",
       "        12.5,  8.5,  5. ,  6.3,  5.6,  7.2, 12.1,  8.3,  8.5,  5. , 11.9,\n",
       "        27.9, 17.2, 27.5, 15. , 17.2, 17.9, 16.3,  7. ,  7.2,  7.5, 10.4,\n",
       "         8.8,  8.4, 16.7, 14.2, 20.8, 13.4, 11.7,  8.3, 10.2, 10.9, 11. ,\n",
       "         9.5, 14.5, 14.1, 16.1, 14.3, 11.7, 13.4,  9.6,  8.7,  8.4, 12.8,\n",
       "        10.5, 17.1, 18.4, 15.4, 10.8, 11.8, 14.9, 12.6, 14.1, 13. , 13.4,\n",
       "        15.2, 16.1, 17.8, 14.9, 14.1, 12.7, 13.5, 14.9, 20. , 16.4, 17.7,\n",
       "        19.5, 20.2, 21.4, 19.9, 19. , 19.1, 19.1, 20.1, 19.9, 19.6, 23.2,\n",
       "        29.8, 13.8, 13.3, 16.7, 12. , 14.6, 21.4, 23. , 23.7, 25. , 21.8,\n",
       "        20.6, 21.2, 19.1, 20.6, 15.2,  7. ,  8.1, 13.6, 20.1, 21.8, 24.5,\n",
       "        23.1, 19.7, 18.3, 21.2, 17.5, 16.8, 22.4, 20.6, 23.9, 22. , 11.9]),\n",
       " 'feature_names': array(['CRIM', 'ZN', 'INDUS', 'CHAS', 'NOX', 'RM', 'AGE', 'DIS', 'RAD',\n",
       "        'TAX', 'PTRATIO', 'B', 'LSTAT'], dtype='<U7'),\n",
       " 'DESCR': \".. _boston_dataset:\\n\\nBoston house prices dataset\\n---------------------------\\n\\n**Data Set Characteristics:**  \\n\\n    :Number of Instances: 506 \\n\\n    :Number of Attributes: 13 numeric/categorical predictive. Median Value (attribute 14) is usually the target.\\n\\n    :Attribute Information (in order):\\n        - CRIM     per capita crime rate by town\\n        - ZN       proportion of residential land zoned for lots over 25,000 sq.ft.\\n        - INDUS    proportion of non-retail business acres per town\\n        - CHAS     Charles River dummy variable (= 1 if tract bounds river; 0 otherwise)\\n        - NOX      nitric oxides concentration (parts per 10 million)\\n        - RM       average number of rooms per dwelling\\n        - AGE      proportion of owner-occupied units built prior to 1940\\n        - DIS      weighted distances to five Boston employment centres\\n        - RAD      index of accessibility to radial highways\\n        - TAX      full-value property-tax rate per $10,000\\n        - PTRATIO  pupil-teacher ratio by town\\n        - B        1000(Bk - 0.63)^2 where Bk is the proportion of blacks by town\\n        - LSTAT    % lower status of the population\\n        - MEDV     Median value of owner-occupied homes in $1000's\\n\\n    :Missing Attribute Values: None\\n\\n    :Creator: Harrison, D. and Rubinfeld, D.L.\\n\\nThis is a copy of UCI ML housing dataset.\\nhttps://archive.ics.uci.edu/ml/machine-learning-databases/housing/\\n\\n\\nThis dataset was taken from the StatLib library which is maintained at Carnegie Mellon University.\\n\\nThe Boston house-price data of Harrison, D. and Rubinfeld, D.L. 'Hedonic\\nprices and the demand for clean air', J. Environ. Economics & Management,\\nvol.5, 81-102, 1978.   Used in Belsley, Kuh & Welsch, 'Regression diagnostics\\n...', Wiley, 1980.   N.B. Various transformations are used in the table on\\npages 244-261 of the latter.\\n\\nThe Boston house-price data has been used in many machine learning papers that address regression\\nproblems.   \\n     \\n.. topic:: References\\n\\n   - Belsley, Kuh & Welsch, 'Regression diagnostics: Identifying Influential Data and Sources of Collinearity', Wiley, 1980. 244-261.\\n   - Quinlan,R. (1993). Combining Instance-Based and Model-Based Learning. In Proceedings on the Tenth International Conference of Machine Learning, 236-243, University of Massachusetts, Amherst. Morgan Kaufmann.\\n\",\n",
       " 'filename': 'C:\\\\ProgramData\\\\Anaconda3\\\\lib\\\\site-packages\\\\sklearn\\\\datasets\\\\data\\\\boston_house_prices.csv'}"
      ]
     },
     "execution_count": 2,
     "metadata": {},
     "output_type": "execute_result"
    }
   ],
   "source": [
    "boston"
   ]
  },
  {
   "cell_type": "code",
   "execution_count": null,
   "metadata": {},
   "outputs": [],
   "source": []
  }
 ],
 "metadata": {
  "kernelspec": {
   "display_name": "Python 3",
   "language": "python",
   "name": "python3"
  },
  "language_info": {
   "codemirror_mode": {
    "name": "ipython",
    "version": 3
   },
   "file_extension": ".py",
   "mimetype": "text/x-python",
   "name": "python",
   "nbconvert_exporter": "python",
   "pygments_lexer": "ipython3",
   "version": "3.7.9"
  },
  "toc": {
   "base_numbering": 1,
   "nav_menu": {},
   "number_sections": true,
   "sideBar": true,
   "skip_h1_title": false,
   "title_cell": "Table of Contents",
   "title_sidebar": "Contents",
   "toc_cell": false,
   "toc_position": {},
   "toc_section_display": true,
   "toc_window_display": false
  },
  "varInspector": {
   "cols": {
    "lenName": 16,
    "lenType": 16,
    "lenVar": 40
   },
   "kernels_config": {
    "python": {
     "delete_cmd_postfix": "",
     "delete_cmd_prefix": "del ",
     "library": "var_list.py",
     "varRefreshCmd": "print(var_dic_list())"
    },
    "r": {
     "delete_cmd_postfix": ") ",
     "delete_cmd_prefix": "rm(",
     "library": "var_list.r",
     "varRefreshCmd": "cat(var_dic_list()) "
    }
   },
   "types_to_exclude": [
    "module",
    "function",
    "builtin_function_or_method",
    "instance",
    "_Feature"
   ],
   "window_display": false
  }
 },
 "nbformat": 4,
 "nbformat_minor": 2
}
